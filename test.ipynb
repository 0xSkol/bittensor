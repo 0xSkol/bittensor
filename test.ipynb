{
 "cells": [
  {
   "cell_type": "code",
   "execution_count": 2,
   "metadata": {},
   "outputs": [],
   "source": [
    "import torch"
   ]
  },
  {
   "cell_type": "code",
   "execution_count": 17,
   "metadata": {},
   "outputs": [
    {
     "data": {
      "text/plain": [
       "tensor([[-0.1646,  0.8678,  0.2779, -0.9932],\n",
       "        [-0.6510,  0.9322, -1.2898, -0.6936]])"
      ]
     },
     "execution_count": 17,
     "metadata": {},
     "output_type": "execute_result"
    }
   ],
   "source": [
    "torch.flatten(a, 1)\n"
   ]
  },
  {
   "cell_type": "code",
   "execution_count": 40,
   "metadata": {},
   "outputs": [
    {
     "name": "stdout",
     "output_type": "stream",
     "text": [
      "tensor([[[-1.9280,  0.7909],\n",
      "         [ 1.3147, -2.3144]],\n",
      "\n",
      "        [[ 0.1071,  0.1162],\n",
      "         [-0.5505,  1.6712]]])\n",
      "tensor([[-1.9280,  0.7909],\n",
      "        [ 1.3147, -2.3144],\n",
      "        [ 0.1071,  0.1162],\n",
      "        [-0.5505,  1.6712]])\n",
      "tensor([[ 1.3147, -2.3144],\n",
      "        [-0.5505,  1.6712]])\n",
      "tensor([[0., 0.],\n",
      "        [0., 0.],\n",
      "        [0., 0.],\n",
      "        [0., 0.]])\n"
     ]
    }
   ],
   "source": [
    "inputs = torch.randn(2,2,2)\n",
    "print (inputs)\n",
    "\n",
    "inputs = inputs.reshape( (4,2) )\n",
    "print (inputs)\n",
    "\n",
    "masked = inputs[ [1,3] ]\n",
    "\n",
    "outputs = torch.zeros_like(inputs)\n",
    "print ( outputs )\n",
    "\n",
    "    \n",
    "outputs[1] = inputs[0]\n",
    "\n"
   ]
  },
  {
   "cell_type": "code",
   "execution_count": 32,
   "metadata": {},
   "outputs": [
    {
     "name": "stdout",
     "output_type": "stream",
     "text": [
      "mask tensor([[ True, False],\n",
      "        [False, False]])\n",
      "input tensor([[[ 0.4228, -0.3355],\n",
      "         [ 0.3166, -1.9283]],\n",
      "\n",
      "        [[ 0.1507,  0.4296],\n",
      "         [-0.3167,  0.4062]]])\n",
      "indices tensor([[0, 0]])\n",
      "values tensor([ 0.4228, -0.3355])\n",
      "indices tensor([[0, 0],\n",
      "        [0, 1]])\n"
     ]
    },
    {
     "ename": "RuntimeError",
     "evalue": "number of dimensions must be sparse_dim (2) + dense_dim (0), but got 3",
     "output_type": "error",
     "traceback": [
      "\u001b[0;31m---------------------------------------------------------------------------\u001b[0m",
      "\u001b[0;31mRuntimeError\u001b[0m                              Traceback (most recent call last)",
      "\u001b[0;32m/var/folders/t2/n8qztvk54892_y4rgslzz_wm0000gn/T/ipykernel_30957/1177473970.py\u001b[0m in \u001b[0;36m<module>\u001b[0;34m\u001b[0m\n\u001b[1;32m     13\u001b[0m \u001b[0mindices\u001b[0m \u001b[0;34m=\u001b[0m \u001b[0mtorch\u001b[0m\u001b[0;34m.\u001b[0m\u001b[0mtensor\u001b[0m\u001b[0;34m(\u001b[0m\u001b[0;34m[\u001b[0m\u001b[0;34m[\u001b[0m\u001b[0;36m0\u001b[0m\u001b[0;34m,\u001b[0m\u001b[0;36m0\u001b[0m\u001b[0;34m]\u001b[0m\u001b[0;34m,\u001b[0m \u001b[0;34m[\u001b[0m\u001b[0;36m0\u001b[0m\u001b[0;34m,\u001b[0m\u001b[0;36m1\u001b[0m\u001b[0;34m]\u001b[0m\u001b[0;34m]\u001b[0m\u001b[0;34m)\u001b[0m\u001b[0;34m\u001b[0m\u001b[0;34m\u001b[0m\u001b[0m\n\u001b[1;32m     14\u001b[0m \u001b[0mprint\u001b[0m \u001b[0;34m(\u001b[0m\u001b[0;34m\"indices\"\u001b[0m\u001b[0;34m,\u001b[0m \u001b[0mindices\u001b[0m\u001b[0;34m)\u001b[0m\u001b[0;34m\u001b[0m\u001b[0;34m\u001b[0m\u001b[0m\n\u001b[0;32m---> 15\u001b[0;31m \u001b[0mprint\u001b[0m\u001b[0;34m(\u001b[0m\u001b[0mtorch\u001b[0m\u001b[0;34m.\u001b[0m\u001b[0msparse\u001b[0m\u001b[0;34m.\u001b[0m\u001b[0mFloatTensor\u001b[0m\u001b[0;34m(\u001b[0m\u001b[0mindices\u001b[0m\u001b[0;34m.\u001b[0m\u001b[0mT\u001b[0m\u001b[0;34m,\u001b[0m \u001b[0mvalues\u001b[0m\u001b[0;34m,\u001b[0m \u001b[0mdest\u001b[0m\u001b[0;34m.\u001b[0m\u001b[0mshape\u001b[0m\u001b[0;34m)\u001b[0m\u001b[0;34m.\u001b[0m\u001b[0mto_dense\u001b[0m\u001b[0;34m(\u001b[0m\u001b[0;34m)\u001b[0m\u001b[0;34m)\u001b[0m\u001b[0;34m\u001b[0m\u001b[0;34m\u001b[0m\u001b[0m\n\u001b[0m",
      "\u001b[0;31mRuntimeError\u001b[0m: number of dimensions must be sparse_dim (2) + dense_dim (0), but got 3"
     ]
    }
   ],
   "source": [
    "mask = torch.tensor([[1,0], [0,0]])\n",
    "mask = (mask == 1)\n",
    "print (\"mask\", mask)\n",
    "\n",
    "inputs = torch.randn(2,2,2)\n",
    "print (\"input\", inputs)\n",
    "values = torch.masked_select(inputs.T, mask)\n",
    "indices = mask.nonzero()\n",
    "print (\"indices\", indices)\n",
    "print (\"values\", values)\n",
    "\n",
    "dest = torch.zeros_like(inputs)\n",
    "indices = torch.tensor([[0,0], [0,1]])\n",
    "print (\"indices\", indices)\n",
    "print(torch.sparse.FloatTensor(indices.T, values, dest.shape).to_dense())\n"
   ]
  },
  {
   "cell_type": "code",
   "execution_count": 79,
   "metadata": {},
   "outputs": [
    {
     "name": "stdout",
     "output_type": "stream",
     "text": [
      "z tensor([[0., 0.],\n",
      "        [0., 0.]])\n",
      "a tensor([[-0.4875,  2.2268],\n",
      "        [-1.2256,  0.0623]])\n",
      "mask tensor([[ True, False],\n",
      "        [ True, False]])\n",
      "y tensor([-0.4875, -1.2256])\n",
      "indices tensor([[0, 0],\n",
      "        [1, 0]])\n",
      "tensor([[-0.4875,  0.0000],\n",
      "        [-1.2256,  0.0000]])\n"
     ]
    }
   ],
   "source": [
    "a = torch.randn(2,2)\n",
    "z = torch.zeros_like(a)\n",
    "print (\"z\", z)\n",
    "print (\"a\", a)\n",
    "b = a <= 0\n",
    "print (\"mask\", b)\n",
    "y = torch.masked_select(a, b)\n",
    "print (\"y\", y)\n",
    "indices = b.nonzero()\n",
    "print (\"indices\", indices)\n",
    "print ( torch.sparse.FloatTensor(indices.T, y, z.shape).to_dense())"
   ]
  },
  {
   "cell_type": "code",
   "execution_count": 49,
   "metadata": {},
   "outputs": [
    {
     "name": "stdout",
     "output_type": "stream",
     "text": [
      "source tensor([[[ 1.4975, -0.8643],\n",
      "         [-1.0493,  0.2294]],\n",
      "\n",
      "        [[-0.9519, -1.1548],\n",
      "         [-1.2702, -0.8277]]])\n",
      "mask tensor([[[ True, False],\n",
      "         [False, False]],\n",
      "\n",
      "        [[False, False],\n",
      "         [False, False]]])\n",
      "values tensor([1.4975])\n",
      "index (tensor([0]), tensor([0]), tensor([0]))\n"
     ]
    },
    {
     "ename": "TypeError",
     "evalue": "scatter_() received an invalid combination of arguments - got (int, tuple, Tensor), but expected one of:\n * (int dim, Tensor index, Tensor src)\n      didn't match because some of the arguments have invalid types: (int, !tuple!, Tensor)\n * (int dim, Tensor index, Tensor src, *, str reduce)\n * (int dim, Tensor index, Number value)\n      didn't match because some of the arguments have invalid types: (int, !tuple!, !Tensor!)\n * (int dim, Tensor index, Number value, *, str reduce)\n",
     "output_type": "error",
     "traceback": [
      "\u001b[0;31m---------------------------------------------------------------------------\u001b[0m",
      "\u001b[0;31mTypeError\u001b[0m                                 Traceback (most recent call last)",
      "\u001b[0;32m/var/folders/t2/n8qztvk54892_y4rgslzz_wm0000gn/T/ipykernel_21842/537031610.py\u001b[0m in \u001b[0;36m<module>\u001b[0;34m\u001b[0m\n\u001b[1;32m     10\u001b[0m \u001b[0mprint\u001b[0m \u001b[0;34m(\u001b[0m\u001b[0;34m\"index\"\u001b[0m\u001b[0;34m,\u001b[0m \u001b[0mss\u001b[0m\u001b[0;34m)\u001b[0m\u001b[0;34m\u001b[0m\u001b[0;34m\u001b[0m\u001b[0m\n\u001b[1;32m     11\u001b[0m \u001b[0;34m\u001b[0m\u001b[0m\n\u001b[0;32m---> 12\u001b[0;31m \u001b[0my\u001b[0m\u001b[0;34m.\u001b[0m\u001b[0mscatter_\u001b[0m\u001b[0;34m(\u001b[0m\u001b[0;36m0\u001b[0m\u001b[0;34m,\u001b[0m \u001b[0mss\u001b[0m\u001b[0;34m,\u001b[0m \u001b[0mz\u001b[0m\u001b[0;34m)\u001b[0m\u001b[0;34m\u001b[0m\u001b[0;34m\u001b[0m\u001b[0m\n\u001b[0m\u001b[1;32m     13\u001b[0m \u001b[0;34m\u001b[0m\u001b[0m\n\u001b[1;32m     14\u001b[0m \u001b[0;34m\u001b[0m\u001b[0m\n",
      "\u001b[0;31mTypeError\u001b[0m: scatter_() received an invalid combination of arguments - got (int, tuple, Tensor), but expected one of:\n * (int dim, Tensor index, Tensor src)\n      didn't match because some of the arguments have invalid types: (int, !tuple!, Tensor)\n * (int dim, Tensor index, Tensor src, *, str reduce)\n * (int dim, Tensor index, Number value)\n      didn't match because some of the arguments have invalid types: (int, !tuple!, !Tensor!)\n * (int dim, Tensor index, Number value, *, str reduce)\n"
     ]
    }
   ],
   "source": [
    "x = torch.randn(2, 2, 2)\n",
    "z = torch.zeros_like(x)\n",
    "\n",
    "print (\"source\", x)\n",
    "mask = x.ge(0.5)\n",
    "print( \"mask\", mask )\n",
    "y = torch.masked_select(x, mask)\n",
    "print (\"values\", y)\n",
    "ss = (mask == True).nonzero(as_tuple=True)\n",
    "print (\"index\", ss)\n",
    "\n",
    "y.scatter_(0, ss, z)\n",
    "\n",
    "\n"
   ]
  },
  {
   "cell_type": "code",
   "execution_count": 9,
   "metadata": {},
   "outputs": [
    {
     "name": "stdout",
     "output_type": "stream",
     "text": [
      "torch.Size([2, 256, 1024])\n",
      "torch.Size([2, 256, 1024])\n"
     ]
    }
   ],
   "source": [
    "b = torch.squeeze(a, 1)\n",
    "print (a.shape)\n",
    "print (b.shape)"
   ]
  },
  {
   "cell_type": "code",
   "execution_count": 10,
   "metadata": {},
   "outputs": [
    {
     "ename": "TypeError",
     "evalue": "masked_select(): argument 'mask' (position 2) must be Tensor, not list",
     "output_type": "error",
     "traceback": [
      "\u001b[0;31m---------------------------------------------------------------------------\u001b[0m",
      "\u001b[0;31mTypeError\u001b[0m                                 Traceback (most recent call last)",
      "\u001b[0;32m/var/folders/t2/n8qztvk54892_y4rgslzz_wm0000gn/T/ipykernel_21842/3993713250.py\u001b[0m in \u001b[0;36m<module>\u001b[0;34m\u001b[0m\n\u001b[0;32m----> 1\u001b[0;31m \u001b[0mtorch\u001b[0m\u001b[0;34m.\u001b[0m\u001b[0mmasked_select\u001b[0m\u001b[0;34m(\u001b[0m\u001b[0ma\u001b[0m\u001b[0;34m,\u001b[0m \u001b[0mmask\u001b[0m\u001b[0;34m)\u001b[0m\u001b[0;34m\u001b[0m\u001b[0;34m\u001b[0m\u001b[0m\n\u001b[0m",
      "\u001b[0;31mTypeError\u001b[0m: masked_select(): argument 'mask' (position 2) must be Tensor, not list"
     ]
    }
   ],
   "source": [
    "torch.masked_select(a, mask)"
   ]
  },
  {
   "cell_type": "code",
   "execution_count": null,
   "metadata": {},
   "outputs": [],
   "source": []
  }
 ],
 "metadata": {
  "interpreter": {
   "hash": "b0fa6594d8f4cbf19f97940f81e996739fb7646882a419484c72d19e05852a7e"
  },
  "kernelspec": {
   "display_name": "Python 3.9.13 64-bit",
   "language": "python",
   "name": "python3"
  },
  "language_info": {
   "codemirror_mode": {
    "name": "ipython",
    "version": 3
   },
   "file_extension": ".py",
   "mimetype": "text/x-python",
   "name": "python",
   "nbconvert_exporter": "python",
   "pygments_lexer": "ipython3",
   "version": "3.9.13"
  },
  "orig_nbformat": 4
 },
 "nbformat": 4,
 "nbformat_minor": 2
}
