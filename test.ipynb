{
 "cells": [
  {
   "cell_type": "code",
   "execution_count": 4,
   "metadata": {},
   "outputs": [],
   "source": [
    "import bittensor\n",
    "import torch\n"
   ]
  },
  {
   "cell_type": "code",
   "execution_count": 5,
   "metadata": {},
   "outputs": [
    {
     "data": {
      "application/vnd.jupyter.widget-view+json": {
       "model_id": "25387527692f4932a282f680fc2b578b",
       "version_major": 2,
       "version_minor": 0
      },
      "text/plain": [
       "Output()"
      ]
     },
     "metadata": {},
     "output_type": "display_data"
    },
    {
     "data": {
      "text/html": [
       "<pre style=\"white-space:pre;overflow-x:auto;line-height:normal;font-family:Menlo,'DejaVu Sans Mono',consolas,'Courier New',monospace\"></pre>\n"
      ],
      "text/plain": []
     },
     "metadata": {},
     "output_type": "display_data"
    }
   ],
   "source": [
    "graph = bittensor.metagraph().load()\n",
    "wallet = bittensor.wallet(name = 'const', hotkey = 'Tiberius')\n",
    "dend = bittensor.dendrite( wallet = wallet ) "
   ]
  },
  {
   "cell_type": "code",
   "execution_count": 26,
   "metadata": {},
   "outputs": [
    {
     "name": "stdout",
     "output_type": "stream",
     "text": [
      "\n",
      "Total: 4096 \n",
      "Steps: 1 \n",
      "Queries: 4096 \n",
      "Timeout: 9 \n",
      "Success: 14 \n",
      "Failures: 4082 \n",
      "Rate: 0.00341796875 \n",
      "Size: [10, 20] \n",
      "Seconds: 10.854523181915283 /s \n",
      "Q/sec: 1.289784891088113 /s \n",
      "Total Upload: 19.77MB \n",
      "Total Download: 252.60MB \n",
      "Upload Speed: 1.82MB /s \n",
      "Download Speed: 23.27MB /s\n"
     ]
    }
   ],
   "source": [
    "import time \n",
    "import psutil\n",
    "import tqdm \n",
    "import random\n",
    "start_time = time.time()\n",
    "io_1 = psutil.net_io_counters()\n",
    "start_bytes_sent, start_bytes_recv = io_1.bytes_sent, io_1.bytes_recv\n",
    "\n",
    "bittensor.logging(debug = False)\n",
    "def get_size(bytes):\n",
    "    for unit in ['', 'K', 'M', 'G', 'T', 'P']:\n",
    "        if bytes < 1024:\n",
    "            return f\"{bytes:.2f}{unit}B\"\n",
    "        bytes /= 1024\n",
    "\n",
    "n_steps = 1\n",
    "n_queried = 4096\n",
    "timeout = 9\n",
    "\n",
    "inputs = torch.ones([10, 20], dtype = torch.int64) \n",
    "\n",
    "results = []\n",
    "for step in range(n_steps):\n",
    "    uids = random.sample( range(4096), n_queried )\n",
    "    endpoints = graph.endpoints[uids]\n",
    "    a, b, c = dend.text( endpoints=endpoints, synapses=[bittensor.synapse.TextCausalLMNext()], inputs=inputs, timeout = timeout)\n",
    "    results.append( [bi.item() == 1 for bi in b])\n",
    "\n",
    "io_2 = psutil.net_io_counters()\n",
    "total_bytes_sent, total_bytes_recved = io_2.bytes_sent - start_bytes_sent, io_2.bytes_recv - start_bytes_recv\n",
    "end_time = time.time()\n",
    "\n",
    "total_success = sum([sum(ri) for ri in results])\n",
    "total_sent = n_queried * n_steps\n",
    "total_failed = total_sent - total_success\n",
    "total_seconds =  end_time - start_time\n",
    "\n",
    "print ('\\nTotal:', total_sent, \n",
    "       '\\nSteps:', n_steps, \n",
    "       '\\nQueries:', n_queried,\n",
    "       '\\nTimeout:', timeout,\n",
    "       '\\nSuccess:', total_success, \n",
    "       '\\nFailures:', total_failed, \n",
    "       '\\nRate:', total_success/total_sent, \n",
    "       '\\nSize:', list(inputs.shape), \n",
    "       '\\nSeconds:', total_seconds, '/s',\n",
    "       '\\nQ/sec:', total_success/total_seconds, '/s',\n",
    "       '\\nTotal Upload:', get_size( total_bytes_sent ),\n",
    "       '\\nTotal Download:', get_size( total_bytes_recved ),\n",
    "       '\\nUpload Speed:', get_size( total_bytes_sent / total_seconds), \"/s\",\n",
    "       '\\nDownload Speed:', get_size( total_bytes_recved / total_seconds), \"/s\")\n"
   ]
  },
  {
   "cell_type": "code",
   "execution_count": null,
   "metadata": {},
   "outputs": [],
   "source": []
  }
 ],
 "metadata": {
  "kernelspec": {
   "display_name": "Python 3.9.13 64-bit",
   "language": "python",
   "name": "python3"
  },
  "language_info": {
   "codemirror_mode": {
    "name": "ipython",
    "version": 3
   },
   "file_extension": ".py",
   "mimetype": "text/x-python",
   "name": "python",
   "nbconvert_exporter": "python",
   "pygments_lexer": "ipython3",
   "version": "3.9.13"
  },
  "orig_nbformat": 4,
  "vscode": {
   "interpreter": {
    "hash": "a665b5d41d17b532ea9890333293a1b812fa0b73c9c25c950b3cedf1bebd0438"
   }
  }
 },
 "nbformat": 4,
 "nbformat_minor": 2
}
