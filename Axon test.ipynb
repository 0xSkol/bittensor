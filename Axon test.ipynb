{
 "cells": [
  {
   "cell_type": "code",
   "execution_count": 1,
   "id": "78f67a3b",
   "metadata": {},
   "outputs": [
    {
     "name": "stdout",
     "output_type": "stream",
     "text": [
      "\u001b[31m\n",
      "IMPORTANT: Store this mnemonic in a secure (preferable offline place), as anyone who has possesion of this mnemonic can use it to regenerate the key and access your tokens. \n",
      "\u001b[0m\n",
      "The mnemonic to the new coldkey is:\n",
      "\n",
      "\u001b[32mstay hedgehog clump surface muscle exhaust marriage burger anchor keep economy obtain\u001b[0m\n",
      "\n",
      "You can use the mnemonic to recreate the key in case it gets lost. The command to use to regenerate the key using this mnemonic is:\n",
      "btcli regen_coldkey --mnemonic stay hedgehog clump surface muscle exhaust marriage burger anchor keep economy obtain\n",
      "\n",
      "\u001b[31m\n",
      "IMPORTANT: Store this mnemonic in a secure (preferable offline place), as anyone who has possesion of this mnemonic can use it to regenerate the key and access your tokens. \n",
      "\u001b[0m\n",
      "The mnemonic to the new hotkey is:\n",
      "\n",
      "\u001b[32mkind swear venture peace snow attitude section movie jump horn child insect\u001b[0m\n",
      "\n",
      "You can use the mnemonic to recreate the key in case it gets lost. The command to use to regenerate the key using this mnemonic is:\n",
      "btcli regen_hotkey --mnemonic kind swear venture peace snow attitude section movie jump horn child insect\n",
      "\n",
      "2022-01-14 10:08:15.019 | \u001b[32m\u001b[1m    SUCCESS     \u001b[0m | Set debug:          \u001b[32mON\u001b[0m\n",
      "2022-01-14 10:08:15.019 | \u001b[32m\u001b[1m    SUCCESS     \u001b[0m | Set trace:          \u001b[31mOFF\u001b[0m\n",
      "2022-01-14 10:08:15.019 | \u001b[32m\u001b[1m    SUCCESS     \u001b[0m | Set record log:     \u001b[31mOFF\u001b[0m\n"
     ]
    }
   ],
   "source": [
    "import bittensor\n",
    "import torch\n",
    "import time\n",
    "from multiprocessing import Pool\n",
    "\n",
    "\n",
    "wallet =  bittensor.wallet (\n",
    "    path = '/tmp/pytest',\n",
    "    name = 'pytest',\n",
    "    hotkey = 'pytest',\n",
    ") \n",
    "\n",
    "wallet.create_new_coldkey( use_password=False, overwrite = True)\n",
    "wallet.create_new_hotkey( use_password=False, overwrite = True)\n",
    "logging =bittensor.logging(debug=True)"
   ]
  },
  {
   "cell_type": "code",
   "execution_count": 2,
   "id": "eb6ae091",
   "metadata": {
    "scrolled": true
   },
   "outputs": [
    {
     "name": "stdout",
     "output_type": "stream",
     "text": [
      "datasize: 2048\n",
      "2022-01-12 13:28:50.136 | \u001b[32m\u001b[1m    SUCCESS     \u001b[0m | Set debug:          \u001b[32mON\u001b[0m\n",
      "2022-01-12 13:28:50.136 | \u001b[32m\u001b[1m    SUCCESS     \u001b[0m | Set trace:          \u001b[31mOFF\u001b[0m\n",
      "2022-01-12 13:28:50.136 | \u001b[32m\u001b[1m    SUCCESS     \u001b[0m | Set record log:     \u001b[31mOFF\u001b[0m\n",
      "2022-01-12 13:28:58.968 | \u001b[32m\u001b[1m    SUCCESS     \u001b[0m | Loaded dataset:     \u001b[34mBooks3\u001b[0m\n",
      "2022-01-12 13:28:59.343 | \u001b[33m\u001b[1m    WARNING     \u001b[0m | Failed to retrieve directory, ignoring directory:\u001b[34m{'Name': '17-Books3-4654.txt', 'Hash': 'QmSYVqSkvPnSvHNZwG8kNmYvpiFmXfgeeVqgECjDQLMzop', 'Size': 498906}\u001b[0m\n",
      "2022-01-12 13:29:00.079 | \u001b[32m\u001b[1m    SUCCESS     \u001b[0m | Downloaded:         \u001b[34m01-Books3-13712.txt\u001b[0m\n",
      "datasize: 2048\n"
     ]
    }
   ],
   "source": [
    "dataset =bittensor.dataset(batch_size=1,dataset_name=['Books3'],max_corpus_size=1,block_size=2048)\n"
   ]
  },
  {
   "cell_type": "code",
   "execution_count": 2,
   "id": "5a40adbb",
   "metadata": {
    "scrolled": true
   },
   "outputs": [
    {
     "name": "stdout",
     "output_type": "stream",
     "text": [
      "2022-01-14 10:08:27.839 | \u001b[33m\u001b[1m    WARNING     \u001b[0m | No modality detected. Defaulting to the text modality\n",
      "2022-01-14 10:08:27.858 | \u001b[32m\u001b[1m    SUCCESS     \u001b[0m | Axon Stopped:       \u001b[34m0.0.0.0:8080\u001b[0m\n",
      "2022-01-14 10:08:27.862 | \u001b[32m\u001b[1m    SUCCESS     \u001b[0m | Axon Started:       \u001b[34m0.0.0.0:8080\u001b[0m\n"
     ]
    }
   ],
   "source": [
    "def forward( inputs_x):\n",
    "    return torch.zeros([1, 42, bittensor.__network_dim__])\n",
    "axon = bittensor.axon (\n",
    "    port = 8080,\n",
    "    ip = '0.0.0.0',\n",
    "    wallet = wallet,\n",
    ")\n",
    "axon.attach_forward_callback( forward,  modality = bittensor.proto.Modality.TEXT )\n",
    "axon.start()\n",
    "endpoints = []\n",
    "endpoint = bittensor.endpoint(\n",
    "    version = bittensor.__version_as_int__,\n",
    "    uid = 1,\n",
    "    hotkey = 'abc',\n",
    "    ip = '0.0.0.0', \n",
    "    ip_type = 4, \n",
    "    port = 8080, \n",
    "    modality = 0, \n",
    "    coldkey = ''\n",
    ")\n",
    "endpoints += [endpoint]\n",
    "collection = 0 \n",
    "\n",
    "inputs=\"\"\"in my palm is a clear stone , and inside it is a\n",
    "    small ivory statuette . a guardian angel .\n",
    "    figured if you 're going to be out at night\"\"\"\n",
    "\n"
   ]
  },
  {
   "cell_type": "code",
   "execution_count": 3,
   "id": "7a6f34b2",
   "metadata": {},
   "outputs": [
    {
     "data": {
      "text/plain": [
       "[<function __main__.forward(inputs_x)>, None, None]"
      ]
     },
     "execution_count": 3,
     "metadata": {},
     "output_type": "execute_result"
    }
   ],
   "source": [
    "axon.forward_callback"
   ]
  },
  {
   "cell_type": "code",
   "execution_count": 4,
   "id": "f4023a67",
   "metadata": {},
   "outputs": [],
   "source": [
    "def f(i):\n",
    "    dend = bittensor.dendrite(wallet=wallet)\n",
    "    for idx in range(1000):\n",
    "        rep = dend.forward_text( endpoints=endpoints,inputs = inputs)\n",
    "    return\n"
   ]
  },
  {
   "cell_type": "code",
   "execution_count": 5,
   "id": "816e278f",
   "metadata": {},
   "outputs": [
    {
     "name": "stdout",
     "output_type": "stream",
     "text": [
      "2022-01-14 10:08:34.277 | \u001b[32m\u001b[1m    SUCCESS     \u001b[0m | Receptor Pool Server Started\n",
      "2022-01-14 10:08:34.282 | \u001b[32m\u001b[1m    SUCCESS     \u001b[0m | Manager Server: Added 1 connection, total connections: 1\n",
      "2022-01-14 10:08:34.286 | \u001b[32m\u001b[1m    SUCCESS     \u001b[0m | Receptor Pool Server Connected\n",
      "\u001b[34m2022-01-14 10:08:37.220\u001b[0m | \u001b[32m    Connect     \u001b[0m | uid: 1   |      /ipv4/0.0.0.0:8080     | hotkey:abc | coldkey: \n",
      "\u001b[34m2022-01-14 10:08:37.238\u001b[0m | \u001b[32m    Success     \u001b[0m | Dendrite | Forward  | ---> |   1   |     [1, 42]     | 0.01s  | abc | None \n",
      "\u001b[34m2022-01-14 10:08:37.245\u001b[0m | \u001b[32m    Success     \u001b[0m |   Axon   | Forward  | ---> |   -   |     [1, 42]     | 0.00s  | 5FLf1wL8hsjRqMxN455va6K3rKaoUVGASk9tG3Z3XCRz4UDm | None \n",
      "\u001b[34m2022-01-14 10:08:37.254\u001b[0m | \u001b[32m    Success     \u001b[0m |   Axon   | Forward  | <--- |   -   |  [1, 42, 1024]  | 0.01s  | 5FLf1wL8hsjRqMxN455va6K3rKaoUVGASk9tG3Z3XCRz4UDm | None \n",
      "\u001b[34m2022-01-14 10:08:37.266\u001b[0m | \u001b[32m    Success     \u001b[0m | Dendrite | Forward  | <--- |   1   |  [1, 42, 1024]  | 0.03s  | abc | Success \n",
      "\u001b[34m2022-01-14 10:08:37.268\u001b[0m | \u001b[32m    Success     \u001b[0m | Dendrite | Forward  | <--- |   1   |  [1, 42, 1024]  | 0.04s  | abc | Success \n",
      "((tensor([[[0., 0., 0.,  ..., 0., 0., 0.],\n",
      "         [0., 0., 0.,  ..., 0., 0., 0.],\n",
      "         [0., 0., 0.,  ..., 0., 0., 0.],\n",
      "         ...,\n",
      "         [0., 0., 0.,  ..., 0., 0., 0.],\n",
      "         [0., 0., 0.,  ..., 0., 0., 0.],\n",
      "         [0., 0., 0.,  ..., 0., 0., 0.]]], grad_fn=<DendriteBackward>),), tensor([1]), tensor([0.0352], grad_fn=<DendriteBackward>))\n"
     ]
    }
   ],
   "source": [
    "dend = bittensor.dendrite(wallet=wallet)\n",
    "rep = dend.forward_text( endpoints=endpoints,inputs = inputs)\n",
    "print(rep)"
   ]
  },
  {
   "cell_type": "code",
   "execution_count": 7,
   "id": "87309d04",
   "metadata": {},
   "outputs": [
    {
     "name": "stdout",
     "output_type": "stream",
     "text": [
      "experiment 0\n",
      "7.615685939788818\n",
      "11.59963059425354\n",
      "18.273228406906128\n",
      "25.400614261627197\n",
      "32.814520597457886\n",
      "experiment 1\n",
      "8.518683433532715\n",
      "12.691876649856567\n",
      "19.653930187225342\n",
      "27.090625047683716\n",
      "32.31590700149536\n",
      "experiment 2\n",
      "7.915411949157715\n",
      "11.885755777359009\n",
      "19.907251596450806\n",
      "26.84670615196228\n",
      "33.73048734664917\n",
      "experiment 3\n",
      "7.816728115081787\n",
      "11.756000757217407\n",
      "18.156983852386475\n",
      "25.71111297607422\n",
      "32.81958341598511\n",
      "experiment 4\n",
      "8.528467893600464\n",
      "12.90477991104126\n",
      "18.868995666503906\n",
      "26.696702241897583\n",
      "33.68322682380676\n"
     ]
    }
   ],
   "source": [
    "import time\n",
    "collections = torch.zeros((5,5))\n",
    "for j in range(5):\n",
    "    print('experiment {}'.format(j))\n",
    "    for i in range(5):\n",
    "        start = time.time()\n",
    "        logging =bittensor.logging(debug=False)\n",
    "        with Pool(i+1) as p:\n",
    "            reps = p.map(f, list(range(i+1)))\n",
    "\n",
    "        end = time.time()\n",
    "        print(end-start)\n",
    "        collections[j,i] = end-start\n",
    "    time.sleep(1)"
   ]
  },
  {
   "cell_type": "code",
   "execution_count": 24,
   "id": "00094537",
   "metadata": {},
   "outputs": [
    {
     "data": {
      "image/png": "[encoded data removed]",
      "text/plain": [
       "<Figure size 432x288 with 1 Axes>"
      ]
     },
     "metadata": {
      "needs_background": "light"
     },
     "output_type": "display_data"
    }
   ],
   "source": [
    "import matplotlib.pyplot as plt\n",
    "import numpy as np\n",
    "means = torch.mean(collections,axis=0)\n",
    "error = torch.std(collections,axis=0)\n",
    "plt.figure(1)\n",
    "plt.bar(np.arange(5)+1,means, yerr=error, align='center', alpha=0.5, ecolor='black', capsize=12)\n",
    "plt.tight_layout()\n",
    "plt.grid(True, axis='y')\n",
    "plt.xlabel('Number of Processes')\n",
    "plt.ylabel('Time Elapsed (s)')\n",
    "plt.title('Time required for each process to send 1000 requests (N=5)')\n",
    "\n",
    "plt.show()"
   ]
  },
  {
   "cell_type": "code",
   "execution_count": 23,
   "id": "3aa679f2",
   "metadata": {},
   "outputs": [
    {
     "data": {
      "image/png": "[encoded data removed]",
      "text/plain": [
       "<Figure size 432x288 with 1 Axes>"
      ]
     },
     "metadata": {
      "needs_background": "light"
     },
     "output_type": "display_data"
    }
   ],
   "source": [
    "scaled_collections = torch.zeros((5,5))\n",
    "\n",
    "for i in range(5):\n",
    "    scaled_collections[:,i] = collections[:,i]/((i+1)*1000)\n",
    "\n",
    "means_scaled = torch.mean(scaled_collections,axis=0)\n",
    "error_scaled = torch.std(scaled_collections,axis=0)\n",
    "plt.figure(1)\n",
    "plt.bar(np.arange(5)+1,means_scaled, yerr=error_scaled, align='center', alpha=0.5, ecolor='black', capsize=12)\n",
    "plt.tight_layout()\n",
    "plt.grid(True, axis='y')\n",
    "plt.xlabel('Number of Processes')\n",
    "plt.ylabel('Time Elapsed (s)')\n",
    "plt.title('Time required per request (N=5)')\n",
    "\n",
    "plt.show()"
   ]
  },
  {
   "cell_type": "code",
   "execution_count": 10,
   "id": "da3db37b",
   "metadata": {},
   "outputs": [],
   "source": [
    "\n",
    "\"\"\"\n",
    "Time delay in sending messages (0.1 second)\n",
    "\n",
    "\"\"\"\n",
    "\n",
    "def f_sleep(i):\n",
    "    dend = bittensor.dendrite(wallet=wallet)\n",
    "    for idx in range(100):\n",
    "        rep = dend.forward_text( endpoints=endpoints,inputs = inputs)\n",
    "        time.sleep(0.1)\n",
    "    return\n",
    "\n"
   ]
  },
  {
   "cell_type": "code",
   "execution_count": null,
   "id": "5f075c45",
   "metadata": {
    "scrolled": true
   },
   "outputs": [
    {
     "name": "stdout",
     "output_type": "stream",
     "text": [
      "experiment 0\n",
      "11.207724332809448\n",
      "11.165243148803711\n",
      "11.453211545944214\n",
      "11.484163045883179\n",
      "11.641637802124023\n",
      "experiment 1\n",
      "11.164168357849121\n",
      "11.390720129013062\n",
      "11.411092758178711\n",
      "11.508129596710205\n",
      "11.554063558578491\n",
      "experiment 2\n",
      "11.200275182723999\n",
      "11.483879804611206\n",
      "11.41305422782898\n"
     ]
    }
   ],
   "source": [
    "import time\n",
    "N_processes = [1,2,3,5,10]\n",
    "N = len(N_processes)\n",
    "\n",
    "collections = torch.zeros((5,N))\n",
    "logging =bittensor.logging(debug=False)\n",
    "for j in range(5):\n",
    "    print('experiment {}'.format(j))\n",
    "    for i in range(N):\n",
    "        start = time.time()\n",
    "        process =  N_processes[i]\n",
    "        with Pool(process) as p:\n",
    "            reps = p.map(f_sleep, list(range(i+1)))\n",
    "\n",
    "        end = time.time()\n",
    "        print(end-start)\n",
    "        collections[j,i] = end-start\n",
    "    time.sleep(1)"
   ]
  },
  {
   "cell_type": "code",
   "execution_count": 13,
   "id": "a9d93b91",
   "metadata": {},
   "outputs": [
    {
     "data": {
      "image/png": "[encoded data removed]",
      "text/plain": [
       "<Figure size 432x288 with 1 Axes>"
      ]
     },
     "metadata": {
      "needs_background": "light"
     },
     "output_type": "display_data"
    }
   ],
   "source": [
    "import matplotlib.pyplot as plt\n",
    "import numpy as np\n",
    "means = torch.mean(collections,axis=0)\n",
    "error = torch.std(collections,axis=0)\n",
    "plt.figure(1)\n",
    "plt.bar(np.arange(N_processes)+1,means, yerr=error, align='center', alpha=0.5, ecolor='black', capsize=12)\n",
    "plt.tight_layout()\n",
    "plt.grid(True, axis='y')\n",
    "plt.xlabel('Number of Processes')\n",
    "plt.ylabel('Time Elapsed (s)')\n",
    "plt.title('Time required for each process to send 1000 requests (N=5)')\n",
    "\n",
    "plt.show()"
   ]
  },
  {
   "cell_type": "code",
   "execution_count": 16,
   "id": "fb7d40c9",
   "metadata": {},
   "outputs": [
    {
     "data": {
      "image/png": "[encoded data removed]",
      "text/plain": [
       "<Figure size 432x288 with 1 Axes>"
      ]
     },
     "metadata": {
      "needs_background": "light"
     },
     "output_type": "display_data"
    }
   ],
   "source": [
    "scaled_collections = torch.zeros((5,N_processes))\n",
    "\n",
    "for i in range(N_processes):\n",
    "    scaled_collections[:,i] = collections[:,i]/((i+1)*1000)\n",
    "\n",
    "means_scaled = torch.mean(scaled_collections,axis=0)\n",
    "error_scaled = torch.std(scaled_collections,axis=0)\n",
    "plt.figure(1)\n",
    "plt.bar(np.arange(N_processes)+1,means_scaled, yerr=error_scaled, align='center', alpha=0.5, ecolor='black', capsize=12)\n",
    "plt.tight_layout()\n",
    "plt.grid(True, axis='y')\n",
    "plt.xlabel('Number of Processes')\n",
    "plt.ylabel('Time Elapsed (s)')\n",
    "plt.title('Time required per request (N=5, delay=0.1)')\n",
    "\n",
    "plt.show()"
   ]
  },
  {
   "cell_type": "code",
   "execution_count": 6,
   "id": "db7a076d",
   "metadata": {},
   "outputs": [],
   "source": [
    "tokenize =bittensor.tokenizer()"
   ]
  },
  {
   "cell_type": "code",
   "execution_count": 7,
   "id": "de54fa24",
   "metadata": {},
   "outputs": [
    {
     "data": {
      "text/plain": [
       "PreTrainedTokenizerFast(name_or_path='EleutherAI/gpt-neo-1.3B', vocab_size=50257, model_max_len=2048, is_fast=True, padding_side='left', special_tokens={'bos_token': '[BOS]', 'eos_token': '[EOS]', 'unk_token': '[UNK]', 'sep_token': '[SEP]', 'pad_token': '[PAD]', 'cls_token': '[CLS]', 'mask_token': '[MASK]', 'additional_special_tokens': ['<s>NOTUSED', '</s>NOTUSED', '<eop>', '<eod>', '<formula>', '<mask_1><special0>', '<special1>', '<special2>', '<special3>', '<special4>', '<special5>', '<special6>', '<special7>', '<special8>', '<special9>']})"
      ]
     },
     "execution_count": 7,
     "metadata": {},
     "output_type": "execute_result"
    }
   ],
   "source": [
    "tokenize"
   ]
  },
  {
   "cell_type": "code",
   "execution_count": 8,
   "id": "037a3000",
   "metadata": {},
   "outputs": [],
   "source": [
    "old_tokenize =bittensor.tokenizer(version='2.0.2')"
   ]
  },
  {
   "cell_type": "code",
   "execution_count": 9,
   "id": "4f6a4e0a",
   "metadata": {},
   "outputs": [
    {
     "data": {
      "text/plain": [
       "PreTrainedTokenizer(name_or_path='gpt2', vocab_size=50257, model_max_len=1024, is_fast=False, padding_side='left', special_tokens={'bos_token': '[BOS]', 'eos_token': '[EOS]', 'unk_token': '[UNK]', 'sep_token': '[SEP]', 'pad_token': '[PAD]', 'cls_token': '[CLS]', 'mask_token': '[MASK]', 'additional_special_tokens': ['<s>NOTUSED', '</s>NOTUSED', '<eop>', '<eod>', '<formula>', '<mask_1><special0>', '<special1>', '<special2>', '<special3>', '<special4>', '<special5>', '<special6>', '<special7>', '<special8>', '<special9>']})"
      ]
     },
     "execution_count": 9,
     "metadata": {},
     "output_type": "execute_result"
    }
   ],
   "source": [
    "old_tokenize"
   ]
  },
  {
   "cell_type": "code",
   "execution_count": 18,
   "id": "e9545e78",
   "metadata": {},
   "outputs": [],
   "source": [
    "decoded = tokenize.decode(inputs[0])"
   ]
  },
  {
   "cell_type": "code",
   "execution_count": 23,
   "id": "4c5b89dd",
   "metadata": {},
   "outputs": [],
   "source": [
    "size = old_tokenize(decoded, padding=True)"
   ]
  },
  {
   "cell_type": "code",
   "execution_count": 24,
   "id": "2dd404ab",
   "metadata": {},
   "outputs": [
    {
     "data": {
      "text/plain": [
       "2048"
      ]
     },
     "execution_count": 24,
     "metadata": {},
     "output_type": "execute_result"
    }
   ],
   "source": [
    "len(size.input_ids)"
   ]
  },
  {
   "cell_type": "code",
   "execution_count": null,
   "id": "efa13f5c",
   "metadata": {},
   "outputs": [],
   "source": []
  }
 ],
 "metadata": {
  "kernelspec": {
   "display_name": "Python 3 (ipykernel)",
   "language": "python",
   "name": "python3"
  },
  "language_info": {
   "codemirror_mode": {
    "name": "ipython",
    "version": 3
   },
   "file_extension": ".py",
   "mimetype": "text/x-python",
   "name": "python",
   "nbconvert_exporter": "python",
   "pygments_lexer": "ipython3",
   "version": "3.8.10"
  }
 },
 "nbformat": 4,
 "nbformat_minor": 5
}
