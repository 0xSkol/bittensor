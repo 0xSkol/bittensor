{
 "cells": [
  {
   "cell_type": "code",
   "execution_count": 7,
   "id": "7a9e2eda-7e48-4ddd-b88a-ba0d94ed471e",
   "metadata": {},
   "outputs": [],
   "source": [
    "import bittensor; from tqdm import tqdm"
   ]
  },
  {
   "cell_type": "code",
   "execution_count": null,
   "id": "f2f5aeb9-a166-4823-8004-c311df405303",
   "metadata": {},
   "outputs": [],
   "source": []
  },
  {
   "cell_type": "code",
   "execution_count": 8,
   "id": "e3b87a25-6247-41c4-ac7f-8b541d733ed2",
   "metadata": {},
   "outputs": [],
   "source": [
    "m = bittensor.metagraph( chain_endpoint = 'gibson.kusanagi.bittensor.com:9944' )"
   ]
  },
  {
   "cell_type": "code",
   "execution_count": null,
   "id": "9ba1d32f-18ba-47ba-9fbf-1f37f8df4ce1",
   "metadata": {},
   "outputs": [
    {
     "name": "stderr",
     "output_type": "stream",
     "text": [
      "  0%|          | 0/18 [00:00<?, ?it/s]\n",
      "  0%|          | 0/10 [00:00<?, ?it/s]\u001b[A\n",
      " 10%|█         | 1/10 [00:36<05:28, 36.53s/it]\u001b[A\n",
      " 20%|██        | 2/10 [00:53<04:05, 30.65s/it]\u001b[A\n",
      " 40%|████      | 4/10 [01:02<02:17, 22.87s/it]\u001b[A\n",
      " 50%|█████     | 5/10 [01:12<01:35, 19.03s/it]\u001b[A\n",
      " 60%|██████    | 6/10 [01:19<01:01, 15.37s/it]\u001b[A\n",
      "100%|██████████| 10/10 [01:27<00:00,  8.78s/it][A\n",
      "  6%|▌         | 1/18 [01:28<24:59, 88.21s/it]\n",
      "  0%|          | 0/10 [00:00<?, ?it/s]\u001b[A\n",
      " 10%|█         | 1/10 [00:16<02:25, 16.17s/it]\u001b[A"
     ]
    }
   ],
   "source": [
    "for block in tqdm(range( 1820000, 2000000, 10000 )):\n",
    "    m.sync(block = block).save_to_path( '~/Desktop/kusanagi-history', 'kusanagi-{}.pt'.format(block) )"
   ]
  },
  {
   "cell_type": "code",
   "execution_count": null,
   "id": "3ebc3575-e7f0-4c85-a3ff-2c28a1534e1e",
   "metadata": {},
   "outputs": [],
   "source": []
  }
 ],
 "metadata": {
  "kernelspec": {
   "display_name": "Python 3",
   "language": "python",
   "name": "python3"
  },
  "language_info": {
   "codemirror_mode": {
    "name": "ipython",
    "version": 3
   },
   "file_extension": ".py",
   "mimetype": "text/x-python",
   "name": "python",
   "nbconvert_exporter": "python",
   "pygments_lexer": "ipython3",
   "version": "3.8.10"
  }
 },
 "nbformat": 4,
 "nbformat_minor": 5
}
