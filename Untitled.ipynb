{
 "cells": [
  {
   "cell_type": "code",
   "execution_count": 2,
   "id": "f4e8b48b",
   "metadata": {},
   "outputs": [],
   "source": [
    "import wandb"
   ]
  },
  {
   "cell_type": "code",
   "execution_count": 3,
   "id": "0af2b0dc",
   "metadata": {},
   "outputs": [
    {
     "name": "stderr",
     "output_type": "stream",
     "text": [
      "\u001b[34m\u001b[1mwandb\u001b[0m: Currently logged in as: \u001b[33mconst69\u001b[0m (use `wandb login --relogin` to force relogin)\n",
      "\u001b[34m\u001b[1mwandb\u001b[0m: wandb version 0.12.10 is available!  To upgrade, please run:\n",
      "\u001b[34m\u001b[1mwandb\u001b[0m:  $ pip install wandb --upgrade\n"
     ]
    },
    {
     "data": {
      "text/html": [
       "\n",
       "                    Syncing run <strong><a href=\"https://wandb.ai/const69/bittensor/runs/25spxhrf\" target=\"_blank\">fresh-capybara-6</a></strong> to <a href=\"https://wandb.ai/const69/bittensor\" target=\"_blank\">Weights & Biases</a> (<a href=\"https://docs.wandb.com/integrations/jupyter.html\" target=\"_blank\">docs</a>).<br/>\n",
       "\n",
       "                "
      ],
      "text/plain": [
       "<IPython.core.display.HTML object>"
      ]
     },
     "metadata": {},
     "output_type": "display_data"
    },
    {
     "data": {
      "text/html": [
       "<button onClick=\"this.nextSibling.style.display='block';this.style.display='none';\">Display W&B run</button><iframe src=\"https://wandb.ai/const69/bittensor/runs/25spxhrf?jupyter=true\" style=\"border:none;width:100%;height:420px;display:none;\"></iframe>"
      ],
      "text/plain": [
       "<wandb.sdk.wandb_run.Run at 0x10613cf10>"
      ]
     },
     "execution_count": 3,
     "metadata": {},
     "output_type": "execute_result"
    }
   ],
   "source": [
    "wandb.init()\n"
   ]
  },
  {
   "cell_type": "code",
   "execution_count": 21,
   "id": "a88f9e5f",
   "metadata": {},
   "outputs": [],
   "source": [
    "import torch\n",
    "import pandas\n",
    "\n",
    "\n",
    "data = [ torch.randn( (5) ).tolist() for _ in range(3)]\n",
    "data = pandas.DataFrame( data )\n",
    "data = [ (x, x*2) for x in range(10) ]\n",
    "table = wandb.Table( data = data, columns=['x', 'y'])\n",
    "lines = wandb.plot.line(table, 'x', 'y', title=\"Custom Y vs X Line Plot\")\n",
    "wandb.log({'p0': lines})\n"
   ]
  },
  {
   "cell_type": "code",
   "execution_count": null,
   "id": "ef82120d",
   "metadata": {},
   "outputs": [],
   "source": [
    "wandb.plot.line_series (\n",
    "    xs=[1, 2, 3, 4], \n",
    "    ys=[ [], [] ],\n",
    "    keys=[\"metric Y\", \"metric Z\"],\n",
    "    title=\"Two Random Metrics\",\n",
    "    xname=\"x units\"\n",
    ")\n"
   ]
  },
  {
   "cell_type": "code",
   "execution_count": null,
   "id": "6414eef2",
   "metadata": {},
   "outputs": [],
   "source": [
    "wandb.log(﻿{﻿\"my_custom_id\" : wandb.plot.line_series(\n",
    "                       xs=﻿[﻿0﻿, 1﻿, 2﻿, 3﻿, 4﻿]﻿, \n",
    "                       ys=﻿[﻿[﻿10﻿, 20﻿, 30﻿, 40﻿, 50﻿]﻿, [﻿0.5﻿, 11﻿, 72﻿, 3﻿, 41﻿]﻿]﻿,\n",
    "                       keys=﻿[﻿\"metric Y\"﻿, \"metric Z\"﻿]﻿,\n",
    "                       title=﻿\"Two Random Metrics\"﻿,\n",
    "                       xname=﻿\"x units\"﻿)﻿}﻿)"
   ]
  }
 ],
 "metadata": {
  "kernelspec": {
   "display_name": "Python 3 (ipykernel)",
   "language": "python",
   "name": "python3"
  },
  "language_info": {
   "codemirror_mode": {
    "name": "ipython",
    "version": 3
   },
   "file_extension": ".py",
   "mimetype": "text/x-python",
   "name": "python",
   "nbconvert_exporter": "python",
   "pygments_lexer": "ipython3",
   "version": "3.9.10"
  }
 },
 "nbformat": 4,
 "nbformat_minor": 5
}
