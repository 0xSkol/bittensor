{
 "cells": [
  {
   "cell_type": "code",
   "execution_count": 15,
   "id": "9a6ce3a1-971a-4913-b03f-e1c5d9fd4c90",
   "metadata": {},
   "outputs": [],
   "source": [
    "import bittensor;import math"
   ]
  },
  {
   "cell_type": "code",
   "execution_count": 2,
   "id": "b82651bc-83f7-4dbd-8704-7a4b965349dc",
   "metadata": {},
   "outputs": [],
   "source": [
    "sub = bittensor.subtensor()"
   ]
  },
  {
   "cell_type": "code",
   "execution_count": 23,
   "id": "8d736b60-d903-4b44-99b8-ae63832f3946",
   "metadata": {},
   "outputs": [
    {
     "data": {
      "text/plain": [
       "Subtensor(akatsuki, main.akatsuki.bittensor.com:9944)"
      ]
     },
     "execution_count": 23,
     "metadata": {},
     "output_type": "execute_result"
    }
   ],
   "source": []
  },
  {
   "cell_type": "code",
   "execution_count": 4,
   "id": "b668774c-68f8-4127-a556-5478ff6c33e5",
   "metadata": {},
   "outputs": [],
   "source": [
    "rr = sub.substrate.query_map( module='System',storage_function='Account' )"
   ]
  },
  {
   "cell_type": "code",
   "execution_count": 19,
   "id": "d7404d7d-1f4d-485a-af6c-bc0fdbd7ad82",
   "metadata": {},
   "outputs": [
    {
     "name": "stdout",
     "output_type": "stream",
     "text": [
      "5EkF63UTYSFsk8gRRi4cHPN56CV6XcD2GsdnLSzsYmFH4kKq 0\n",
      "5EXKJ9D3m3EVwABVjxUbG9XmHGtB7WZSSExPuggcsHsZ3f6e 0\n",
      "5F9tbGe5mfdgyGXdhNWbVf4EoeiTbL3wH2K2RzMLxvdHSdKv 0\n",
      "5DCicUgmvYGYcmn6DhfQU1vd33SzLPn7UDKNMPpgvY3WTjNn 0\n",
      "5FukqDert65P2A7o6AyCn5kGHix2JGmFMfMFEr7riyktYG2k 0\n",
      "5FC6iTwsR3oJs4db92uBTjPBs6HuA1H4bPCs6aGbvdLxa88m 0\n",
      "5CJQgj9Q36t7yBpAZh8BDuC6VuArVjavb2C5Hdjk6HpHa4Vx 0\n",
      "5DyCXLzDadLWhcKE7xDmhanpLKA8AKQEhiSiZxEye6JJ7R2F 0\n",
      "5FPBwhymaMGw6NmDZ1WbFEv553xrpZqDkn6TWpxaVPqAVPDp 0\n",
      "5DWtTNZnVeFmtJvYMxs7wamsyNabXoJJV46gF1bNoTRbiXgh 0\n",
      "5GhDHUwMXipuSEWYi9kUYQTHADM8Mn5ZqL2bosaeukYrTXp9 0\n",
      "5F1ZJtVosrELoSbAQDiqp4avBRPpW9tzqwMM3BhTKhyGfNug 0\n",
      "5EWfYQmG77x6RMj6hYQUsVKiozXLf8FT5HFEQ2W5Wq4XP9MB 0\n",
      "5CvbaVKZ2VzZRevyFUuuSQhz3KbAtHWBXj26WnvGV79VBRi5 0\n",
      "5H1Dm4yEDdWTcCf9he2bMcttyCWLeKUnCNipMArM1xHwbXyi 0\n",
      "5HjU7JXAt3YvJW2UUUBCEYNvx4xHDmunuip4Pu1hn8qTSH6A 0\n",
      "5FsVmCKVDvkUvXR42ckdi9GxmgU8C2zQvKm7Mi62199qfCDt 1152921504606846976\n",
      "5GQwjFpmYm8LXoAYhSDH8zsH1znSdYtmqkauBRb9687BkR35 0\n",
      "5FhcrhqoCn1qDfARuuMPuBT79T1wPs4vE1mvD7dV76SZWJy5 0\n",
      "5F7NNouEPnEN6vUjxCmNxhuKCY5y7a7GGBfLdEy5fRP1NFq3 0\n",
      "5D9qe3CorEqsT2d6jg9F3MpsBsyCJ4FvnUmByHzKQt5sHyNV 0\n",
      "5EZ4mvgFUAAdfPEAk6idW7nTo25SY5V6b57h8UPShNAHTcJD 0\n",
      "5CyCuBZUfcWc1A3S2fHACRNHWmaJdXsGqwvti2zxGRzrM3cm 0\n"
     ]
    }
   ],
   "source": [
    "for el in rr:\n",
    "    print (el[0], el[1]['data']['free'])"
   ]
  },
  {
   "cell_type": "code",
   "execution_count": 16,
   "id": "321e158f-e29d-4548-8f74-ab482f6a44a4",
   "metadata": {},
   "outputs": [
    {
     "data": {
      "text/plain": [
       "1152921.504606847"
      ]
     },
     "execution_count": 16,
     "metadata": {},
     "output_type": "execute_result"
    }
   ],
   "source": [
    "1152921504606846976/math.pow(10,12)"
   ]
  },
  {
   "cell_type": "code",
   "execution_count": 17,
   "id": "aba7435b-d762-43b9-a99b-3373168d5643",
   "metadata": {},
   "outputs": [],
   "source": [
    "wallet = bittensor.wallet( name = 'sudo_akatsuki' )"
   ]
  },
  {
   "cell_type": "code",
   "execution_count": 24,
   "id": "2dc51004-9f21-4639-8233-d207524a5016",
   "metadata": {},
   "outputs": [
    {
     "name": "stdin",
     "output_type": "stream",
     "text": [
      "Enter password to unlock key:  ··············\n"
     ]
    },
    {
     "name": "stdout",
     "output_type": "stream",
     "text": [
      "namespace(active=0, bonds=[], coldkey='5Fuqjivugk1Kb9wJkzyKDc9TdaWRhDoeTyjRquoCntDM5vat', consensus=0, dividends=0, hotkey='5CyCuBZUfcWc1A3S2fHACRNHWmaJdXsGqwvti2zxGRzrM3cm', incentive=0, inflation=0, ip='99.238.136.56', ip_type=4, is_null=True, last_update=1680, modality=0, port=8091, rank=0, stake=0, trust=0, uid=0, version=140, weights=[(11, 831287063), (10, 762012954), (9, 484915048), (6, 346367535), (4, 346367535), (5, 346367535), (8, 346367535), (7, 346367535), (3, 277094034), (2, 207820517), (0, 4)])\n"
     ]
    },
    {
     "ename": "ValueError",
     "evalue": "This wallet is not registered. Call wallet.register( email = <your email>) before this function.",
     "output_type": "error",
     "traceback": [
      "\u001b[0;31m---------------------------------------------------------------------------\u001b[0m",
      "\u001b[0;31mValueError\u001b[0m                                Traceback (most recent call last)",
      "\u001b[0;32m<ipython-input-24-795d2d071182>\u001b[0m in \u001b[0;36m<module>\u001b[0;34m\u001b[0m\n\u001b[0;32m----> 1\u001b[0;31m \u001b[0mwallet\u001b[0m\u001b[0;34m.\u001b[0m\u001b[0madd_stake\u001b[0m\u001b[0;34m(\u001b[0m \u001b[0;36m0.01\u001b[0m \u001b[0;34m)\u001b[0m\u001b[0;34m\u001b[0m\u001b[0;34m\u001b[0m\u001b[0m\n\u001b[0m",
      "\u001b[0;32m~/Workspace/bittensor/bittensor/_wallet/wallet_impl.py\u001b[0m in \u001b[0;36madd_stake\u001b[0;34m(self, amount, wait_for_inclusion, wait_for_finalization, subtensor)\u001b[0m\n\u001b[1;32m    210\u001b[0m         \u001b[0mself\u001b[0m\u001b[0;34m.\u001b[0m\u001b[0massert_hotkey\u001b[0m\u001b[0;34m(\u001b[0m\u001b[0;34m)\u001b[0m\u001b[0;34m\u001b[0m\u001b[0;34m\u001b[0m\u001b[0m\n\u001b[1;32m    211\u001b[0m         \u001b[0;32mif\u001b[0m \u001b[0msubtensor\u001b[0m \u001b[0;34m==\u001b[0m \u001b[0;32mNone\u001b[0m\u001b[0;34m:\u001b[0m \u001b[0msubtensor\u001b[0m \u001b[0;34m=\u001b[0m \u001b[0mbittensor\u001b[0m\u001b[0;34m.\u001b[0m\u001b[0msubtensor\u001b[0m\u001b[0;34m(\u001b[0m\u001b[0;34m)\u001b[0m\u001b[0;34m\u001b[0m\u001b[0;34m\u001b[0m\u001b[0m\n\u001b[0;32m--> 212\u001b[0;31m         \u001b[0;32mif\u001b[0m \u001b[0;32mnot\u001b[0m \u001b[0mself\u001b[0m\u001b[0;34m.\u001b[0m\u001b[0mis_registered\u001b[0m\u001b[0;34m(\u001b[0m\u001b[0msubtensor\u001b[0m\u001b[0;34m=\u001b[0m\u001b[0msubtensor\u001b[0m\u001b[0;34m)\u001b[0m\u001b[0;34m:\u001b[0m \u001b[0;32mraise\u001b[0m \u001b[0mValueError\u001b[0m\u001b[0;34m(\u001b[0m\u001b[0;34m'This wallet is not registered. Call wallet.register( email = <your email>) before this function.'\u001b[0m\u001b[0;34m)\u001b[0m\u001b[0;34m\u001b[0m\u001b[0;34m\u001b[0m\u001b[0m\n\u001b[0m\u001b[1;32m    213\u001b[0m         \u001b[0;32mif\u001b[0m \u001b[0mamount\u001b[0m \u001b[0;34m==\u001b[0m \u001b[0;32mNone\u001b[0m\u001b[0;34m:\u001b[0m\u001b[0;34m\u001b[0m\u001b[0;34m\u001b[0m\u001b[0m\n\u001b[1;32m    214\u001b[0m             \u001b[0mamount\u001b[0m \u001b[0;34m=\u001b[0m \u001b[0mself\u001b[0m\u001b[0;34m.\u001b[0m\u001b[0mget_balance\u001b[0m\u001b[0;34m(\u001b[0m\u001b[0;34m)\u001b[0m\u001b[0;34m\u001b[0m\u001b[0;34m\u001b[0m\u001b[0m\n",
      "\u001b[0;31mValueError\u001b[0m: This wallet is not registered. Call wallet.register( email = <your email>) before this function."
     ]
    }
   ],
   "source": [
    "wallet.add_stake( 0.01 )"
   ]
  },
  {
   "cell_type": "code",
   "execution_count": 21,
   "id": "893e8342-ab88-41b1-b255-0d5c14f9084f",
   "metadata": {},
   "outputs": [
    {
     "data": {
      "text/plain": [
       "'5FsVmCKVDvkUvXR42ckdi9GxmgU8C2zQvKm7Mi62199qfCDt'"
      ]
     },
     "execution_count": 21,
     "metadata": {},
     "output_type": "execute_result"
    }
   ],
   "source": [
    "wallet.coldkeypub.ss58_address"
   ]
  },
  {
   "cell_type": "code",
   "execution_count": 22,
   "id": "54efcddf-cb8b-460f-8991-9a5a6a2eca0c",
   "metadata": {},
   "outputs": [
    {
     "data": {
      "text/plain": [
       "1152921504606846976"
      ]
     },
     "execution_count": 22,
     "metadata": {},
     "output_type": "execute_result"
    }
   ],
   "source": [
    "1 << 60"
   ]
  },
  {
   "cell_type": "code",
   "execution_count": null,
   "id": "29653b2a-8c91-4d24-867d-ec719baa751e",
   "metadata": {},
   "outputs": [],
   "source": [
    "\t\tbalances: BalancesConfig {\n",
    "\t\t\t// Configure endowed accounts with initial balance of 1 << 60.\n",
    "\t\t\tbalances: endowed_accounts.iter().cloned().map(|k|(k, 1 << 60)).collect(),\n",
    "\t\t},\n"
   ]
  },
  {
   "cell_type": "code",
   "execution_count": null,
   "id": "5a22a4e0-1ab4-4e69-b356-0bbb55daf19f",
   "metadata": {},
   "outputs": [],
   "source": []
  }
 ],
 "metadata": {
  "kernelspec": {
   "display_name": "Python 3 (ipykernel)",
   "language": "python",
   "name": "python3"
  },
  "language_info": {
   "codemirror_mode": {
    "name": "ipython",
    "version": 3
   },
   "file_extension": ".py",
   "mimetype": "text/x-python",
   "name": "python",
   "nbconvert_exporter": "python",
   "pygments_lexer": "ipython3",
   "version": "3.8.11"
  }
 },
 "nbformat": 4,
 "nbformat_minor": 5
}
