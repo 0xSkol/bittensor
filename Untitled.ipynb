{
 "cells": [
  {
   "cell_type": "code",
   "execution_count": 12,
   "id": "0b1b3676",
   "metadata": {},
   "outputs": [],
   "source": [
    "import torch\n",
    "import bittensor\n",
    "import numpy\n",
    "import msgpack\n",
    "import msgpack_numpy\n"
   ]
  },
  {
   "cell_type": "code",
   "execution_count": 15,
   "id": "af32ca9a",
   "metadata": {},
   "outputs": [
    {
     "data": {
      "text/plain": [
       "tensor([[1., 1., 1., 1., 1., 1., 1., 1., 1., 1.],\n",
       "        [1., 1., 1., 1., 1., 1., 1., 1., 1., 1.],\n",
       "        [1., 1., 1., 1., 1., 1., 1., 1., 1., 1.],\n",
       "        [1., 1., 1., 1., 1., 1., 1., 1., 1., 1.],\n",
       "        [1., 1., 1., 1., 1., 1., 1., 1., 1., 1.],\n",
       "        [1., 1., 1., 1., 1., 1., 1., 1., 1., 1.],\n",
       "        [1., 1., 1., 1., 1., 1., 1., 1., 1., 1.],\n",
       "        [1., 1., 1., 1., 1., 1., 1., 1., 1., 1.],\n",
       "        [1., 1., 1., 1., 1., 1., 1., 1., 1., 1.],\n",
       "        [1., 1., 1., 1., 1., 1., 1., 1., 1., 1.]])"
      ]
     },
     "execution_count": 15,
     "metadata": {},
     "output_type": "execute_result"
    }
   ],
   "source": [
    "torch_tensor"
   ]
  },
  {
   "cell_type": "code",
   "execution_count": 51,
   "id": "2cff4ad8",
   "metadata": {},
   "outputs": [
    {
     "data": {
      "text/plain": [
       "52"
      ]
     },
     "execution_count": 51,
     "metadata": {},
     "output_type": "execute_result"
    }
   ],
   "source": [
    "torch_tensor = torch.randn( (1,10), dtype = torch.float32)\n",
    "torch_tensor = torch.gt(torch_tensor, torch_tensor.mean())\n",
    "torch_numpy = torch_tensor.cpu().detach().numpy().copy()\n",
    "#torch_numpy = numpy.array(torch_numpy, dtype=numpy.short)\n",
    "data_buffer = msgpack.packb( torch_numpy, default=msgpack_numpy.encode )\n",
    "len(data_buffer)"
   ]
  },
  {
   "cell_type": "code",
   "execution_count": 138,
   "id": "7a358884",
   "metadata": {},
   "outputs": [
    {
     "data": {
      "text/plain": [
       "tensor([[0.4660, 0.1037, 0.2920],\n",
       "        [0.0179, 0.4387, 0.1330]])"
      ]
     },
     "execution_count": 138,
     "metadata": {},
     "output_type": "execute_result"
    }
   ],
   "source": [
    "import torch\n",
    "a,b = 2,3   #dimension of the pytorch tensor to be generated\n",
    "low,high = 0,1 #range of uniform distribution\n",
    "\n",
    "x = torch.distributions.uniform.Uniform(low,high).sample([a,b]) \n",
    "x"
   ]
  },
  {
   "cell_type": "code",
   "execution_count": 221,
   "id": "8460e185",
   "metadata": {},
   "outputs": [
    {
     "name": "stdout",
     "output_type": "stream",
     "text": [
      "\n",
      "original size:\n",
      " 4.194353 MB\n",
      "\n",
      "compressed size:\n",
      " 0.13112 MB\n",
      "\n",
      "compression:\n",
      " 31.988659243441123 x\n"
     ]
    }
   ],
   "source": [
    "debug = False\n",
    "x,y = 1024,1024\n",
    "\n",
    "a = torch.distributions.uniform.Uniform(0,1).sample([x,y]) \n",
    "asize = len(msgpack.packb( a.numpy(), default = msgpack_numpy.encode ))\n",
    "if debug: print ('\\na\\n', a)\n",
    "    \n",
    "a = a > a.mean()\n",
    "if debug:print ('\\na\\n', a)\n",
    "    \n",
    "a = a.flatten().bool().numpy()\n",
    "if debug:print ('\\na\\n', a)\n",
    "    \n",
    "a = np.packbits(a)\n",
    "if debug:print ('\\na\\n', a)\n",
    "    \n",
    "data = msgpack.packb( a, default = msgpack_numpy.encode )\n",
    "if debug:print ('\\ndata\\n', data)\n",
    "print ('\\noriginal size:\\n', asize/1000000, 'MB')\n",
    "print ('\\ncompressed size:\\n', len(data)/1000000, 'MB')\n",
    "print ('\\ncompression:\\n', asize/len(data), 'x')\n",
    "\n",
    "b = msgpack.unpackb(data, object_hook=msgpack_numpy.decode).copy()\n",
    "if debug:print ('\\nb\\n', b)\n",
    "    \n",
    "b = np.unpackbits(b)\n",
    "if debug:print ('\\nb\\n', b)\n",
    "    \n",
    "b = torch.tensor( b, dtype = torch.float32)\n",
    "if debug:print ('\\nb\\n', b)\n",
    "    \n",
    "b = b[:x*y].reshape(x,y)\n",
    "if debug:print ('\\nb\\n', b)\n",
    "\n"
   ]
  },
  {
   "cell_type": "code",
   "execution_count": 150,
   "id": "487ae9d5",
   "metadata": {},
   "outputs": [
    {
     "name": "stdout",
     "output_type": "stream",
     "text": [
      "1 16\n",
      "[ 24 139]\n",
      "1 2\n",
      "[0 0 0 1 1 0 0 0 1 0 0 0 1 0 1 1]\n"
     ]
    },
    {
     "name": "stderr",
     "output_type": "stream",
     "text": [
      "/var/folders/z5/rh8yl4q55cb35wb6r0qsgk8h0000gn/T/ipykernel_63330/1265154157.py:3: DeprecationWarning: `np.bool` is a deprecated alias for the builtin `bool`. To silence this warning, use `bool` by itself. Doing this will not modify any behavior and is safe. If you specifically wanted the numpy scalar type, use `np.bool_` here.\n",
      "Deprecated in NumPy 1.20; for more details and guidance: https://numpy.org/devdocs/release/1.20.0-notes.html#deprecations\n",
      "  x = numpy.array([0, 0, 0, 1, 1, 0, 0, 0, 1, 0, 0, 0, 1, 0, 1, 1], dtype=np.bool)\n"
     ]
    }
   ],
   "source": [
    "import numpy as np\n",
    "\n",
    "x = numpy.array([0, 0, 0, 1, 1, 0, 0, 0, 1, 0, 0, 0, 1, 0, 1, 1], dtype=np.bool)\n",
    "\n",
    "print(x.itemsize, x.nbytes)\n",
    "# (1, 16)\n",
    "\n",
    "xp = np.packbits(x)\n",
    "print(xp)\n",
    "# [ 24 139]\n",
    "\n",
    "print(xp.itemsize, xp.nbytes)\n",
    "# (1, 2)\n",
    "\n",
    "print(np.unpackbits(xp))\n",
    "# [0 0 0 1 1 0 0 0 1 0 0 0 1 0 1 1]"
   ]
  },
  {
   "cell_type": "code",
   "execution_count": 148,
   "id": "6a89df6c",
   "metadata": {},
   "outputs": [
    {
     "name": "stderr",
     "output_type": "stream",
     "text": [
      "/var/folders/z5/rh8yl4q55cb35wb6r0qsgk8h0000gn/T/ipykernel_63330/1080058650.py:2: DeprecationWarning: The binary mode of fromstring is deprecated, as it behaves surprisingly on unicode inputs. Use frombuffer instead\n",
      "  image = numpy.fromstring(\"111111\", dtype=numpy.uint8)\n"
     ]
    }
   ],
   "source": [
    "import numpy\n",
    "image = numpy.fromstring(\"111111\", dtype=numpy.uint8)"
   ]
  },
  {
   "cell_type": "code",
   "execution_count": 226,
   "id": "87495cda",
   "metadata": {},
   "outputs": [
    {
     "name": "stdout",
     "output_type": "stream",
     "text": [
      "\n",
      "original size:\n",
      " 4.194353 MB\n",
      "\n",
      "compressed size:\n",
      " 1.048576 MB\n",
      "\n",
      "compression:\n",
      " 4.000046730041504 x\n"
     ]
    }
   ],
   "source": [
    "import torch\n",
    "import numpy\n",
    "import msgpack\n",
    "import msgpack_numpy\n",
    "\n",
    "debug = False\n",
    "x,y = 1024,1024 \n",
    "low,high = 0,1 \n",
    "\n",
    "a = torch.distributions.uniform.Uniform(low,high).sample([x,y]) \n",
    "asize = len(msgpack.packb( a.numpy(), default = msgpack_numpy.encode ))\n",
    "if debug: print ('\\na\\n', a)\n",
    "\n",
    "a = a.flatten()\n",
    "if debug: print ('\\na.flatten()\\n', a)\n",
    "\n",
    "a = a * 256\n",
    "a = a.byte()\n",
    "if debug: print ('\\na.byte()\\n', a)\n",
    "\n",
    "data = bytes( a )\n",
    "if debug: print ( '\\data:\\n', data )\n",
    "print ('\\noriginal size:\\n', asize/1000000, 'MB')\n",
    "print ('\\ncompressed size:\\n', len(data)/1000000, 'MB')\n",
    "print ('\\ncompression:\\n', asize/len(data), 'x')\n",
    "\n",
    "b = torch.frombuffer(data, dtype= torch.uint8).cpu().detach()\n",
    "if debug: print ('\\nb.frombuffer()\\n', b)\n",
    "\n",
    "b = b.float() / 256\n",
    "if debug: print ('\\nb/256()\\n', b)\n",
    "\n",
    "b = b.reshape( (x,y) )\n",
    "if debug: print ('\\nb\\n', b)\n"
   ]
  },
  {
   "cell_type": "code",
   "execution_count": 57,
   "id": "eed60a78",
   "metadata": {},
   "outputs": [
    {
     "data": {
      "text/plain": [
       "b'\\x85\\xc4\\x02nd\\xc3\\xc4\\x04type\\xa3|b1\\xc4\\x04kind\\xc4\\x00\\xc4\\x05shape\\x92\\x01\\n\\xc4\\x04data\\xc4\\n\\x00\\x00\\x00\\x00\\x00\\x01\\x00\\x00\\x00\\x01'"
      ]
     },
     "execution_count": 57,
     "metadata": {},
     "output_type": "execute_result"
    }
   ],
   "source": [
    "data_buffer\n"
   ]
  },
  {
   "cell_type": "code",
   "execution_count": 26,
   "id": "3fb52ee4",
   "metadata": {},
   "outputs": [
    {
     "data": {
      "text/plain": [
       "b'\\x85\\xc4\\x02nd\\xc3\\xc4\\x04type\\xa3|b1\\xc4\\x04kind\\xc4\\x00\\xc4\\x05shape\\x92\\n\\n\\xc4\\x04data\\xc4d\\x00\\x00\\x01\\x01\\x01\\x01\\x01\\x01\\x01\\x01\\x00\\x01\\x01\\x01\\x00\\x01\\x00\\x01\\x01\\x01\\x00\\x00\\x00\\x00\\x00\\x00\\x00\\x01\\x01\\x01\\x01\\x01\\x01\\x00\\x00\\x01\\x01\\x00\\x01\\x01\\x00\\x01\\x00\\x00\\x00\\x00\\x01\\x01\\x00\\x01\\x01\\x00\\x01\\x00\\x01\\x01\\x00\\x01\\x01\\x00\\x00\\x00\\x01\\x00\\x01\\x00\\x01\\x00\\x01\\x01\\x00\\x00\\x01\\x00\\x01\\x00\\x00\\x00\\x01\\x01\\x00\\x00\\x01\\x01\\x00\\x00\\x01\\x00\\x00\\x00\\x01\\x01\\x00\\x01\\x00\\x01\\x01\\x01\\x01\\x00'"
      ]
     },
     "execution_count": 26,
     "metadata": {},
     "output_type": "execute_result"
    }
   ],
   "source": [
    "data_buffer"
   ]
  },
  {
   "cell_type": "code",
   "execution_count": 16,
   "id": "7bd570c5",
   "metadata": {},
   "outputs": [
    {
     "data": {
      "text/plain": [
       "tensor([[False, False, False, False, False, False, False, False, False, False],\n",
       "        [False, False, False, False, False, False, False, False, False, False],\n",
       "        [False, False, False, False, False, False, False, False, False, False],\n",
       "        [False, False, False, False, False, False, False, False, False, False],\n",
       "        [False, False, False, False, False, False, False, False, False, False],\n",
       "        [False, False, False, False, False, False, False, False, False, False],\n",
       "        [False, False, False, False, False, False, False, False, False, False],\n",
       "        [False, False, False, False, False, False, False, False, False, False],\n",
       "        [False, False, False, False, False, False, False, False, False, False],\n",
       "        [False, False, False, False, False, False, False, False, False, False]])"
      ]
     },
     "execution_count": 16,
     "metadata": {},
     "output_type": "execute_result"
    }
   ],
   "source": [
    "torch.gt(torch_tensor, torch_tensor.mean())"
   ]
  },
  {
   "cell_type": "code",
   "execution_count": 17,
   "id": "facbc24c",
   "metadata": {},
   "outputs": [
    {
     "data": {
      "text/plain": [
       "array([[-0.01862031, -0.5052922 ,  1.217479  ,  0.7578794 ,  0.43771613,\n",
       "        -0.7006117 , -0.47733635, -1.4856733 , -0.14525759,  0.8110426 ],\n",
       "       [ 0.56898177,  1.4221314 , -0.38098556,  0.13440463, -0.8500217 ,\n",
       "        -0.35518783, -0.64665717,  0.7908317 , -1.2260393 ,  0.2596886 ],\n",
       "       [-1.5324826 , -2.3079915 ,  0.25061554, -1.0043801 ,  0.437453  ,\n",
       "         0.39009345, -1.4854423 , -0.337302  ,  0.42742187,  0.78251743],\n",
       "       [-1.250626  , -1.295221  ,  1.0140709 ,  0.7708921 ,  0.5402199 ,\n",
       "        -0.6076617 , -0.26610184, -0.5386954 , -0.58136827, -0.7944893 ],\n",
       "       [-0.56190044, -0.74123156, -0.08948705,  1.2507792 , -0.62566185,\n",
       "         2.1045923 , -2.2558818 , -1.5008849 ,  0.23993602,  0.22155704],\n",
       "       [-0.2626999 ,  1.1545016 , -1.5971495 ,  0.04550234,  0.7478852 ,\n",
       "         0.12488144, -0.6747472 , -1.4290186 ,  1.5829003 , -0.48653537],\n",
       "       [ 1.3431586 ,  0.20335244,  1.3139392 , -0.3231333 ,  0.30355346,\n",
       "         0.66865677,  0.09730546, -1.0626345 ,  0.8291044 , -1.9731431 ],\n",
       "       [ 2.4762173 , -1.4642351 ,  0.44137713, -1.0218191 ,  0.12739307,\n",
       "         0.9396151 , -1.7335824 ,  0.51324457, -1.315851  , -1.2429519 ],\n",
       "       [-1.7781644 , -0.54314506,  0.5668916 ,  0.2051067 ,  1.8743459 ,\n",
       "        -0.2731983 , -0.3210402 ,  0.09380137,  0.7033587 ,  1.1139427 ],\n",
       "       [ 0.7455256 , -0.7213254 ,  0.06887458, -0.1916647 , -1.0047973 ,\n",
       "        -0.01636763,  2.1955903 ,  0.780532  ,  0.23350792,  0.12438083]],\n",
       "      dtype=float32)"
      ]
     },
     "execution_count": 17,
     "metadata": {},
     "output_type": "execute_result"
    }
   ],
   "source": [
    "torch_tensor = torch.randn( (10,10) )\n",
    "dtype = bittensor.serializer.torch_dtype_to_bittensor_dtype(torch_tensor.dtype)\n",
    "shape = list(torch_tensor.shape)\n",
    "torch_numpy = torch_tensor.cpu().detach().numpy().copy()\n",
    "torch_numpy\n",
    "\n"
   ]
  },
  {
   "cell_type": "code",
   "execution_count": 13,
   "id": "cc787f62",
   "metadata": {},
   "outputs": [
    {
     "data": {
      "text/plain": [
       "array([[ True,  True,  True,  True,  True,  True,  True,  True,  True,\n",
       "         True],\n",
       "       [ True,  True,  True,  True,  True,  True,  True,  True,  True,\n",
       "         True],\n",
       "       [ True,  True,  True,  True,  True,  True,  True,  True,  True,\n",
       "         True],\n",
       "       [ True,  True,  True,  True,  True,  True,  True,  True,  True,\n",
       "         True],\n",
       "       [ True,  True,  True,  True,  True,  True,  True,  True,  True,\n",
       "         True],\n",
       "       [ True,  True,  True,  True,  True,  True,  True,  True,  True,\n",
       "         True],\n",
       "       [ True,  True,  True,  True,  True,  True,  True,  True,  True,\n",
       "         True],\n",
       "       [ True,  True,  True,  True,  True,  True,  True,  True,  True,\n",
       "         True],\n",
       "       [ True,  True,  True,  True,  True,  True,  True,  True,  True,\n",
       "         True],\n",
       "       [ True,  True,  True,  True,  True,  True,  True,  True,  True,\n",
       "         True]])"
      ]
     },
     "execution_count": 13,
     "metadata": {},
     "output_type": "execute_result"
    }
   ],
   "source": [
    "numpy.array(torch_numpy, dtype=bool)"
   ]
  },
  {
   "cell_type": "code",
   "execution_count": 9,
   "id": "d07b004e",
   "metadata": {},
   "outputs": [],
   "source": [
    "data_buffer = msgpack.packb(torch_numpy, default=msgpack_numpy.encode)\n",
    "torch_proto = bittensor.proto.Tensor (\n",
    "        version = bittensor.__version_as_int__,\n",
    "        buffer = data_buffer,\n",
    "        shape = shape,\n",
    "        dtype = dtype,\n",
    "        serializer = bittensor.proto.Serializer.MSGPACK,\n",
    "        tensor_type = bittensor.proto.TensorType.TORCH,\n",
    "        modality = bittensor.proto.Modality.TEXT,\n",
    "        requires_grad = torch_tensor.requires_grad\n",
    "    )"
   ]
  },
  {
   "cell_type": "code",
   "execution_count": null,
   "id": "839481cb",
   "metadata": {},
   "outputs": [],
   "source": []
  }
 ],
 "metadata": {
  "kernelspec": {
   "display_name": "Python 3 (ipykernel)",
   "language": "python",
   "name": "python3"
  },
  "language_info": {
   "codemirror_mode": {
    "name": "ipython",
    "version": 3
   },
   "file_extension": ".py",
   "mimetype": "text/x-python",
   "name": "python",
   "nbconvert_exporter": "python",
   "pygments_lexer": "ipython3",
   "version": "3.9.6"
  }
 },
 "nbformat": 4,
 "nbformat_minor": 5
}
