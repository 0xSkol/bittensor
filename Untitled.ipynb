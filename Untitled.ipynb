{
 "cells": [
  {
   "cell_type": "code",
   "execution_count": 39,
   "id": "f4e8b48b",
   "metadata": {},
   "outputs": [],
   "source": [
    "import torch \n",
    "import matplotlib.pyplot as plt\n",
    "def normalize_to_kappa_max( kappa, t ):\n",
    "    #print (kappa, t, t.sum(), len(t))\n",
    "    plt.plot( t.sort()[0] )\n",
    "    t = t + torch.ones_like(t) * 0.000000001\n",
    "    assert len(t) >= 1/kappa\n",
    "    t = torch.sqrt( t )\n",
    "    t = t / t.sum()\n",
    "    if t.max() < kappa:\n",
    "        return t\n",
    "    else:\n",
    "        normalize_to_kappa_max( kappa, t )\n"
   ]
  },
  {
   "cell_type": "code",
   "execution_count": 44,
   "id": "4949b669",
   "metadata": {},
   "outputs": [
    {
     "ename": "RecursionError",
     "evalue": "maximum recursion depth exceeded while calling a Python object",
     "output_type": "error",
     "traceback": [
      "\u001b[0;31m---------------------------------------------------------------------------\u001b[0m",
      "\u001b[0;31mRecursionError\u001b[0m                            Traceback (most recent call last)",
      "\u001b[0;32m/var/folders/t2/n8qztvk54892_y4rgslzz_wm0000gn/T/ipykernel_50919/1322205263.py\u001b[0m in \u001b[0;36m<module>\u001b[0;34m\u001b[0m\n\u001b[1;32m      1\u001b[0m \u001b[0mt\u001b[0m \u001b[0;34m=\u001b[0m \u001b[0mtorch\u001b[0m\u001b[0;34m.\u001b[0m\u001b[0mtensor\u001b[0m\u001b[0;34m(\u001b[0m \u001b[0;34m[\u001b[0m\u001b[0;36m0\u001b[0m\u001b[0;34m,\u001b[0m \u001b[0;36m0\u001b[0m\u001b[0;34m,\u001b[0m \u001b[0;36m0\u001b[0m\u001b[0;34m,\u001b[0m \u001b[0;36m0\u001b[0m\u001b[0;34m,\u001b[0m \u001b[0;36m1\u001b[0m\u001b[0;34m]\u001b[0m\u001b[0;34m)\u001b[0m\u001b[0;34m\u001b[0m\u001b[0;34m\u001b[0m\u001b[0m\n\u001b[0;32m----> 2\u001b[0;31m \u001b[0mnormalize_to_kappa_max\u001b[0m\u001b[0;34m(\u001b[0m \u001b[0;36m0.2\u001b[0m\u001b[0;34m,\u001b[0m \u001b[0mt\u001b[0m \u001b[0;34m)\u001b[0m\u001b[0;34m\u001b[0m\u001b[0;34m\u001b[0m\u001b[0m\n\u001b[0m",
      "\u001b[0;32m/var/folders/t2/n8qztvk54892_y4rgslzz_wm0000gn/T/ipykernel_50919/2179881494.py\u001b[0m in \u001b[0;36mnormalize_to_kappa_max\u001b[0;34m(kappa, t)\u001b[0m\n\u001b[1;32m     10\u001b[0m         \u001b[0;32mreturn\u001b[0m \u001b[0mt\u001b[0m\u001b[0;34m\u001b[0m\u001b[0;34m\u001b[0m\u001b[0m\n\u001b[1;32m     11\u001b[0m     \u001b[0;32melse\u001b[0m\u001b[0;34m:\u001b[0m\u001b[0;34m\u001b[0m\u001b[0;34m\u001b[0m\u001b[0m\n\u001b[0;32m---> 12\u001b[0;31m         \u001b[0mnormalize_to_kappa_max\u001b[0m\u001b[0;34m(\u001b[0m \u001b[0mkappa\u001b[0m\u001b[0;34m,\u001b[0m \u001b[0mt\u001b[0m \u001b[0;34m)\u001b[0m\u001b[0;34m\u001b[0m\u001b[0;34m\u001b[0m\u001b[0m\n\u001b[0m",
      "... last 1 frames repeated, from the frame below ...\n",
      "\u001b[0;32m/var/folders/t2/n8qztvk54892_y4rgslzz_wm0000gn/T/ipykernel_50919/2179881494.py\u001b[0m in \u001b[0;36mnormalize_to_kappa_max\u001b[0;34m(kappa, t)\u001b[0m\n\u001b[1;32m     10\u001b[0m         \u001b[0;32mreturn\u001b[0m \u001b[0mt\u001b[0m\u001b[0;34m\u001b[0m\u001b[0;34m\u001b[0m\u001b[0m\n\u001b[1;32m     11\u001b[0m     \u001b[0;32melse\u001b[0m\u001b[0;34m:\u001b[0m\u001b[0;34m\u001b[0m\u001b[0;34m\u001b[0m\u001b[0m\n\u001b[0;32m---> 12\u001b[0;31m         \u001b[0mnormalize_to_kappa_max\u001b[0m\u001b[0;34m(\u001b[0m \u001b[0mkappa\u001b[0m\u001b[0;34m,\u001b[0m \u001b[0mt\u001b[0m \u001b[0;34m)\u001b[0m\u001b[0;34m\u001b[0m\u001b[0;34m\u001b[0m\u001b[0m\n\u001b[0m",
      "\u001b[0;31mRecursionError\u001b[0m: maximum recursion depth exceeded while calling a Python object"
     ]
    },
    {
     "data": {
      "image/png": "[encoded data removed]",
      "text/plain": [
       "<Figure size 432x288 with 1 Axes>"
      ]
     },
     "metadata": {
      "needs_background": "light"
     },
     "output_type": "display_data"
    }
   ],
   "source": [
    "t = torch.tensor( [0, 0, 0, 0, 1])\n",
    "normalize_to_kappa_max( 0.2, t )"
   ]
  },
  {
   "cell_type": "code",
   "execution_count": 42,
   "id": "0af2b0dc",
   "metadata": {},
   "outputs": [
    {
     "data": {
      "image/png": "[encoded data removed]",
      "text/plain": [
       "<Figure size 432x288 with 1 Axes>"
      ]
     },
     "metadata": {
      "needs_background": "light"
     },
     "output_type": "display_data"
    }
   ],
   "source": [
    "t = 1 / torch.rand(10)\n",
    "t = t / t.sum()\n",
    "normalize_to_kappa_max( 0.15, t )"
   ]
  },
  {
   "cell_type": "code",
   "execution_count": 21,
   "id": "a88f9e5f",
   "metadata": {},
   "outputs": [
    {
     "name": "stderr",
     "output_type": "stream",
     "text": [
      "wandb: Network error (ConnectionError), entering retry loop.\n",
      "wandb: Network error (ConnectTimeout), entering retry loop.\n",
      "wandb: Network error (ConnectionError), entering retry loop.\n",
      "wandb: Network error (ConnectionError), entering retry loop.\n"
     ]
    }
   ],
   "source": [
    "import torch\n",
    "import pandas\n",
    "\n",
    "\n",
    "data = [ torch.randn( (5) ).tolist() for _ in range(3)]\n",
    "data = pandas.DataFrame( data )\n",
    "data = [ (x, x*2) for x in range(10) ]\n",
    "table = wandb.Table( data = data, columns=['x', 'y'])\n",
    "lines = wandb.plot.line(table, 'x', 'y', title=\"Custom Y vs X Line Plot\")\n",
    "wandb.log({'p0': lines})\n"
   ]
  },
  {
   "cell_type": "code",
   "execution_count": null,
   "id": "ef82120d",
   "metadata": {},
   "outputs": [],
   "source": [
    "wandb.plot.line_series (\n",
    "    xs=[1, 2, 3, 4], \n",
    "    ys=[ [], [] ],\n",
    "    keys=[\"metric Y\", \"metric Z\"],\n",
    "    title=\"Two Random Metrics\",\n",
    "    xname=\"x units\"\n",
    ")\n"
   ]
  },
  {
   "cell_type": "code",
   "execution_count": null,
   "id": "6414eef2",
   "metadata": {},
   "outputs": [],
   "source": [
    "wandb.log(﻿{﻿\"my_custom_id\" : wandb.plot.line_series(\n",
    "                       xs=﻿[﻿0﻿, 1﻿, 2﻿, 3﻿, 4﻿]﻿, \n",
    "                       ys=﻿[﻿[﻿10﻿, 20﻿, 30﻿, 40﻿, 50﻿]﻿, [﻿0.5﻿, 11﻿, 72﻿, 3﻿, 41﻿]﻿]﻿,\n",
    "                       keys=﻿[﻿\"metric Y\"﻿, \"metric Z\"﻿]﻿,\n",
    "                       title=﻿\"Two Random Metrics\"﻿,\n",
    "                       xname=﻿\"x units\"﻿)﻿}﻿)"
   ]
  }
 ],
 "metadata": {
  "kernelspec": {
   "display_name": "Python 3 (ipykernel)",
   "language": "python",
   "name": "python3"
  },
  "language_info": {
   "codemirror_mode": {
    "name": "ipython",
    "version": 3
   },
   "file_extension": ".py",
   "mimetype": "text/x-python",
   "name": "python",
   "nbconvert_exporter": "python",
   "pygments_lexer": "ipython3",
   "version": "3.9.10"
  }
 },
 "nbformat": 4,
 "nbformat_minor": 5
}
