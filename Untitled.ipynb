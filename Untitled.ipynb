{
 "cells": [
  {
   "cell_type": "code",
   "execution_count": 274,
   "id": "b577d468-f0de-4eba-9f22-69d19f9e6598",
   "metadata": {},
   "outputs": [
    {
     "name": "stdout",
     "output_type": "stream",
     "text": [
      "The autoreload extension is already loaded. To reload it, use:\n",
      "  %reload_ext autoreload\n"
     ]
    }
   ],
   "source": [
    "%load_ext autoreload"
   ]
  },
  {
   "cell_type": "code",
   "execution_count": 275,
   "id": "236dad84-ca1f-4126-8629-a786417b060b",
   "metadata": {},
   "outputs": [],
   "source": [
    "%autoreload 2\n",
    "import bittensor;import torch"
   ]
  },
  {
   "cell_type": "code",
   "execution_count": 276,
   "id": "7027f4d1-6ca1-4e1f-8e85-06b989020383",
   "metadata": {},
   "outputs": [],
   "source": [
    "s = bittensor.subtensor( chain_endpoint = '127.0.0.1:9944' )"
   ]
  },
  {
   "cell_type": "code",
   "execution_count": 314,
   "id": "c9f4fcfb-356d-4aa6-822f-adc45c2ca96e",
   "metadata": {},
   "outputs": [
    {
     "name": "stderr",
     "output_type": "stream",
     "text": [
      "100%|██████████| 13/13 [00:00<00:00, 92.67it/s]\n"
     ]
    }
   ],
   "source": [
    "m = bittensor.metagraph( subtensor = s ).sync()"
   ]
  },
  {
   "cell_type": "code",
   "execution_count": 315,
   "id": "f0d794f4-785c-4734-b69e-92bc739f3482",
   "metadata": {},
   "outputs": [
    {
     "data": {
      "text/plain": [
       "Parameter containing:\n",
       "tensor([[1.0000, 0.0000, 0.0000, 0.0000, 0.0000, 0.0000, 0.0000],\n",
       "        [0.0000, 1.0000, 0.0000, 0.0000, 0.0000, 0.0000, 0.0000],\n",
       "        [0.0000, 0.0000, 1.0000, 0.0000, 0.0000, 0.0000, 0.0000],\n",
       "        [0.0000, 0.0000, 0.0000, 1.0000, 0.0000, 0.0000, 0.0000],\n",
       "        [0.0000, 0.0000, 0.0000, 0.0000, 1.0000, 0.0000, 0.0000],\n",
       "        [0.0000, 0.0000, 0.0000, 0.0000, 0.0000, 1.0000, 0.0000],\n",
       "        [0.0000, 0.2500, 0.2500, 0.2500, 0.2500, 0.0000, 0.0000]])"
      ]
     },
     "execution_count": 315,
     "metadata": {},
     "output_type": "execute_result"
    }
   ],
   "source": [
    "m.W"
   ]
  },
  {
   "cell_type": "code",
   "execution_count": 279,
   "id": "57f75727-4603-4dce-8321-cb6970345d38",
   "metadata": {},
   "outputs": [
    {
     "data": {
      "text/plain": [
       "Parameter containing:\n",
       "tensor([   0.0000,  749.7561,  749.7561,  749.7561,  749.7561,    0.0000,\n",
       "        3333.1824])"
      ]
     },
     "execution_count": 279,
     "metadata": {},
     "output_type": "execute_result"
    }
   ],
   "source": [
    "m.S"
   ]
  },
  {
   "cell_type": "code",
   "execution_count": 286,
   "id": "6d5713f6-7cf2-4196-99cf-6e398cddd3e5",
   "metadata": {},
   "outputs": [
    {
     "data": {
      "text/plain": [
       "tensor([   0.0000, 1583.0518, 1583.0518, 1583.0518, 1583.0518,    0.0000,\n",
       "           0.0000])"
      ]
     },
     "execution_count": 286,
     "metadata": {},
     "output_type": "execute_result"
    }
   ],
   "source": [
    "R = torch.matmul(torch.transpose(m.W, 0,1), m.S)\n",
    "R"
   ]
  },
  {
   "cell_type": "code",
   "execution_count": 287,
   "id": "588ca43e-487a-48ff-9466-f4e19aa74aff",
   "metadata": {},
   "outputs": [
    {
     "data": {
      "text/plain": [
       "Parameter containing:\n",
       "tensor([   0.0000, 1582.8016, 1582.8016, 1582.8016, 1582.8016,    0.0000,\n",
       "           0.0000])"
      ]
     },
     "execution_count": 287,
     "metadata": {},
     "output_type": "execute_result"
    }
   ],
   "source": [
    "m.R"
   ]
  },
  {
   "cell_type": "code",
   "execution_count": 293,
   "id": "9c3c1aa4-4c01-41e7-8671-439aff02ae78",
   "metadata": {},
   "outputs": [
    {
     "data": {
      "text/plain": [
       "tensor([   0.0000, 4082.9385, 4082.9385, 4082.9385, 4082.9385,    0.0000,\n",
       "           0.0000])"
      ]
     },
     "execution_count": 293,
     "metadata": {},
     "output_type": "execute_result"
    }
   ],
   "source": [
    "T = torch.matmul(torch.transpose((m.W != 0).float(), 0,1), m.S)\n",
    "T"
   ]
  },
  {
   "cell_type": "code",
   "execution_count": 294,
   "id": "460e2c5c-bb4a-4e16-bc41-c4232e45882e",
   "metadata": {},
   "outputs": [
    {
     "data": {
      "text/plain": [
       "Parameter containing:\n",
       "tensor([   0.0000, 4082.4512, 4082.4512, 4082.4512, 4082.4512,    0.0000,\n",
       "           0.0000])"
      ]
     },
     "execution_count": 294,
     "metadata": {},
     "output_type": "execute_result"
    }
   ],
   "source": [
    "m.T"
   ]
  },
  {
   "cell_type": "code",
   "execution_count": 295,
   "id": "5106ca4f-d133-4f3c-90d6-41df56803957",
   "metadata": {},
   "outputs": [
    {
     "data": {
      "text/plain": [
       "tensor([0.0000, 0.2500, 0.2500, 0.2500, 0.2500, 0.0000, 0.0000])"
      ]
     },
     "execution_count": 295,
     "metadata": {},
     "output_type": "execute_result"
    }
   ],
   "source": [
    "I = torch.exp( T/torch.sum(m.S) * 75 ) - 1\n",
    "I = Inc /torch.sum(Inc)\n",
    "I"
   ]
  },
  {
   "cell_type": "code",
   "execution_count": 298,
   "id": "429dcc89-96ab-4526-a509-f949ffaa57de",
   "metadata": {},
   "outputs": [
    {
     "data": {
      "text/plain": [
       "Parameter containing:\n",
       "tensor([0.0000, 0.2500, 0.2500, 0.2500, 0.2500, 0.0000, 0.0000])"
      ]
     },
     "execution_count": 298,
     "metadata": {},
     "output_type": "execute_result"
    }
   ],
   "source": [
    "m.I"
   ]
  },
  {
   "cell_type": "code",
   "execution_count": 299,
   "id": "5de52abf-dfb7-4140-ac7b-7b9a50a28038",
   "metadata": {},
   "outputs": [
    {
     "data": {
      "text/plain": [
       "Parameter containing:\n",
       "tensor([[      0.0000,       0.0000,       0.0000,       0.0000,       0.0000,\n",
       "               0.0000,       0.0000],\n",
       "        [      0.0000, 1741940.6250,       0.0000,       0.0000,       0.0000,\n",
       "               0.0000,       0.0000],\n",
       "        [      0.0000,       0.0000, 1741940.6250,       0.0000,       0.0000,\n",
       "               0.0000,       0.0000],\n",
       "        [      0.0000,       0.0000,       0.0000, 1741940.6250,       0.0000,\n",
       "               0.0000,       0.0000],\n",
       "        [      0.0000,       0.0000,       0.0000,       0.0000, 1741940.6250,\n",
       "               0.0000,       0.0000],\n",
       "        [      0.0000,       0.0000,       0.0000,       0.0000,       0.0000,\n",
       "               0.0000,       0.0000],\n",
       "        [      0.0000, 3003759.7500, 3003759.7500, 3003759.7500, 3003759.7500,\n",
       "               0.0000,   31827.5488]])"
      ]
     },
     "execution_count": 299,
     "metadata": {},
     "output_type": "execute_result"
    }
   ],
   "source": [
    "m.bonds"
   ]
  },
  {
   "cell_type": "code",
   "execution_count": 303,
   "id": "25ac48d1-f154-492f-9cdd-8f42f41c75b4",
   "metadata": {},
   "outputs": [
    {
     "data": {
      "text/plain": [
       "tensor([[0.0000, 0.0000, 0.0000, 0.0000, 0.0000, 0.0000, 0.0000],\n",
       "        [0.0000, 0.3671, 0.0000, 0.0000, 0.0000, 0.0000, 0.0000],\n",
       "        [0.0000, 0.0000, 0.3671, 0.0000, 0.0000, 0.0000, 0.0000],\n",
       "        [0.0000, 0.0000, 0.0000, 0.3671, 0.0000, 0.0000, 0.0000],\n",
       "        [0.0000, 0.0000, 0.0000, 0.0000, 0.3671, 0.0000, 0.0000],\n",
       "        [0.0000, 0.0000, 0.0000, 0.0000, 0.0000, 0.0000, 0.0000],\n",
       "        [0.0000, 0.6329, 0.6329, 0.6329, 0.6329, 0.0000, 1.0000]])"
      ]
     },
     "execution_count": 303,
     "metadata": {},
     "output_type": "execute_result"
    }
   ],
   "source": [
    "O = m.bonds/torch.sum(m.bonds,axis=0)\n",
    "O = torch.nan_to_num(O, 0.0)\n",
    "O"
   ]
  },
  {
   "cell_type": "code",
   "execution_count": 306,
   "id": "eb384d41-a74c-49d1-b858-b1cf09c5884a",
   "metadata": {},
   "outputs": [
    {
     "data": {
      "text/plain": [
       "tensor([0.0000, 0.1709, 0.1709, 0.1709, 0.1709, 0.0000, 0.3165])"
      ]
     },
     "execution_count": 306,
     "metadata": {},
     "output_type": "execute_result"
    }
   ],
   "source": [
    "D = O * I * 0.5\n",
    "D = torch.sum( D, axis=1 )\n",
    "D = D + I * 0.5\n",
    "D"
   ]
  },
  {
   "cell_type": "code",
   "execution_count": 307,
   "id": "6e056fdb-3bbc-420b-a6ff-8d931e960a7d",
   "metadata": {},
   "outputs": [
    {
     "data": {
      "text/plain": [
       "Parameter containing:\n",
       "tensor([0.0000, 0.1709, 0.1709, 0.1709, 0.1709, 0.0000, 0.3165])"
      ]
     },
     "execution_count": 307,
     "metadata": {},
     "output_type": "execute_result"
    }
   ],
   "source": [
    "m.D"
   ]
  },
  {
   "cell_type": "code",
   "execution_count": null,
   "id": "16f0720e-8c96-4c4c-8eea-afe559a6a036",
   "metadata": {},
   "outputs": [],
   "source": []
  }
 ],
 "metadata": {
  "kernelspec": {
   "display_name": "Python 3 (ipykernel)",
   "language": "python",
   "name": "python3"
  },
  "language_info": {
   "codemirror_mode": {
    "name": "ipython",
    "version": 3
   },
   "file_extension": ".py",
   "mimetype": "text/x-python",
   "name": "python",
   "nbconvert_exporter": "python",
   "pygments_lexer": "ipython3",
   "version": "3.8.11"
  }
 },
 "nbformat": 4,
 "nbformat_minor": 5
}
