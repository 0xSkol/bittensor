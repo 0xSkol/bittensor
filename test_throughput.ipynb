{
 "cells": [
  {
   "cell_type": "code",
   "execution_count": 1,
   "metadata": {},
   "outputs": [],
   "source": [
    "import bittensor\n",
    "import torch"
   ]
  },
  {
   "cell_type": "code",
   "execution_count": 2,
   "metadata": {},
   "outputs": [],
   "source": [
    "graph = bittensor.metagraph().load()\n",
    "wallet = bittensor.wallet(name = 'const', hotkey = 'Tiberius')\n",
    "dend = bittensor.dendrite( wallet = wallet ) "
   ]
  },
  {
   "cell_type": "code",
   "execution_count": 7,
   "metadata": {},
   "outputs": [
    {
     "data": {
      "text/html": [
       "<pre style=\"white-space:pre;overflow-x:auto;line-height:normal;font-family:Menlo,'DejaVu Sans Mono',consolas,'Courier New',monospace\"><span style=\"color: #800000; text-decoration-color: #800000\">╭─────────────────────────────── </span><span style=\"color: #800000; text-decoration-color: #800000; font-weight: bold\">Traceback </span><span style=\"color: #bf7f7f; text-decoration-color: #bf7f7f; font-weight: bold\">(most recent call last)</span><span style=\"color: #800000; text-decoration-color: #800000\"> ────────────────────────────────╮</span>\n",
       "<span style=\"color: #800000; text-decoration-color: #800000\">│</span> <span style=\"color: #bfbf7f; text-decoration-color: #bfbf7f\">/var/folders/3_/qkx38zz53c754wnwwm39yn8w0000gn/T/ipykernel_75390/</span><span style=\"color: #808000; text-decoration-color: #808000; font-weight: bold\">4240801933.py</span>:<span style=\"color: #0000ff; text-decoration-color: #0000ff\">29</span> in <span style=\"color: #00ff00; text-decoration-color: #00ff00\">&lt;cell line:</span> <span style=\"color: #800000; text-decoration-color: #800000\">│</span>\n",
       "<span style=\"color: #800000; text-decoration-color: #800000\">│</span> <span style=\"color: #00ff00; text-decoration-color: #00ff00\">23&gt;</span>                                                                                              <span style=\"color: #800000; text-decoration-color: #800000\">│</span>\n",
       "<span style=\"color: #800000; text-decoration-color: #800000\">│</span>                                                                                                  <span style=\"color: #800000; text-decoration-color: #800000\">│</span>\n",
       "<span style=\"color: #800000; text-decoration-color: #800000\">│</span> <span style=\"color: #800000; text-decoration-color: #800000; font-style: italic\">[Errno 2] No such file or directory: </span>                                                            <span style=\"color: #800000; text-decoration-color: #800000\">│</span>\n",
       "<span style=\"color: #800000; text-decoration-color: #800000\">│</span> <span style=\"color: #800000; text-decoration-color: #800000; font-style: italic\">'/var/folders/3_/qkx38zz53c754wnwwm39yn8w0000gn/T/ipykernel_75390/4240801933.py'</span>                 <span style=\"color: #800000; text-decoration-color: #800000\">│</span>\n",
       "<span style=\"color: #800000; text-decoration-color: #800000\">╰──────────────────────────────────────────────────────────────────────────────────────────────────╯</span>\n",
       "<span style=\"color: #ff0000; text-decoration-color: #ff0000; font-weight: bold\">AttributeError: </span><span style=\"color: #008000; text-decoration-color: #008000\">'list'</span> object has no attribute <span style=\"color: #008000; text-decoration-color: #008000\">'backward'</span>\n",
       "</pre>\n"
      ],
      "text/plain": [
       "\u001b[31m╭─\u001b[0m\u001b[31m────────────────────────────── \u001b[0m\u001b[1;31mTraceback \u001b[0m\u001b[1;2;31m(most recent call last)\u001b[0m\u001b[31m ───────────────────────────────\u001b[0m\u001b[31m─╮\u001b[0m\n",
       "\u001b[31m│\u001b[0m \u001b[2;33m/var/folders/3_/qkx38zz53c754wnwwm39yn8w0000gn/T/ipykernel_75390/\u001b[0m\u001b[1;33m4240801933.py\u001b[0m:\u001b[94m29\u001b[0m in \u001b[92m<cell line:\u001b[0m \u001b[31m│\u001b[0m\n",
       "\u001b[31m│\u001b[0m \u001b[92m23>\u001b[0m                                                                                              \u001b[31m│\u001b[0m\n",
       "\u001b[31m│\u001b[0m                                                                                                  \u001b[31m│\u001b[0m\n",
       "\u001b[31m│\u001b[0m \u001b[3;31m[Errno 2] No such file or directory: \u001b[0m                                                            \u001b[31m│\u001b[0m\n",
       "\u001b[31m│\u001b[0m \u001b[3;31m'/var/folders/3_/qkx38zz53c754wnwwm39yn8w0000gn/T/ipykernel_75390/4240801933.py'\u001b[0m                 \u001b[31m│\u001b[0m\n",
       "\u001b[31m╰──────────────────────────────────────────────────────────────────────────────────────────────────╯\u001b[0m\n",
       "\u001b[1;91mAttributeError: \u001b[0m\u001b[32m'list'\u001b[0m object has no attribute \u001b[32m'backward'\u001b[0m\n"
      ]
     },
     "metadata": {},
     "output_type": "display_data"
    }
   ],
   "source": [
    "import time \n",
    "import psutil\n",
    "import tqdm \n",
    "import random\n",
    "start_time = time.time()\n",
    "io_1 = psutil.net_io_counters()\n",
    "start_bytes_sent, start_bytes_recv = io_1.bytes_sent, io_1.bytes_recv\n",
    "\n",
    "bittensor.logging(debug = False)\n",
    "def get_size(bytes):\n",
    "    for unit in ['', 'K', 'M', 'G', 'T', 'P']:\n",
    "        if bytes < 1024:\n",
    "            return f\"{bytes:.2f}{unit}B\"\n",
    "        bytes /= 1024\n",
    "\n",
    "n_steps = 1\n",
    "n_queried = 10\n",
    "timeout = 10\n",
    "\n",
    "inputs = torch.ones([10, 20], dtype = torch.int64) \n",
    "\n",
    "results = []\n",
    "for step in range(n_steps):\n",
    "    uids = graph.uids[ graph.incentive.sort()[1][-n_queried:]  ]\n",
    "    endpoints = graph.endpoints[uids]\n",
    "    a, b, c = dend.text( endpoints=endpoints, synapses=[bittensor.synapse.TextCausalLMNext()], inputs=inputs, timeout = timeout)\n",
    "    results.append( [bi.item() == 1 for bi in b])\n",
    "    for aa in a:\n",
    "        aa.backward()\n",
    "\n",
    "io_2 = psutil.net_io_counters()\n",
    "total_bytes_sent, total_bytes_recved = io_2.bytes_sent - start_bytes_sent, io_2.bytes_recv - start_bytes_recv\n",
    "end_time = time.time()\n",
    "\n",
    "total_success = sum([sum(ri) for ri in results])\n",
    "total_sent = n_queried * n_steps\n",
    "total_failed = total_sent - total_success\n",
    "total_seconds =  end_time - start_time\n",
    "\n",
    "print ('\\nTotal:', total_sent, \n",
    "       '\\nSteps:', n_steps, \n",
    "       '\\nQueries:', n_queried,\n",
    "       '\\nTimeout:', timeout,\n",
    "       '\\nSuccess:', total_success, \n",
    "       '\\nFailures:', total_failed, \n",
    "       '\\nRate:', total_success/total_sent, \n",
    "       '\\nSize:', list(inputs.shape), \n",
    "       '\\nSeconds:', total_seconds, '/s',\n",
    "       '\\nQ/sec:', total_success/total_seconds, '/s',\n",
    "       '\\nTotal Upload:', get_size( total_bytes_sent ),\n",
    "       '\\nTotal Download:', get_size( total_bytes_recved ),\n",
    "       '\\nUpload Speed:', get_size( total_bytes_sent / total_seconds), \"/s\",\n",
    "       '\\nDownload Speed:', get_size( total_bytes_recved / total_seconds), \"/s\")\n"
   ]
  },
  {
   "cell_type": "code",
   "execution_count": null,
   "metadata": {},
   "outputs": [],
   "source": []
  }
 ],
 "metadata": {
  "kernelspec": {
   "display_name": "Python 3.9.13 64-bit",
   "language": "python",
   "name": "python3"
  },
  "language_info": {
   "codemirror_mode": {
    "name": "ipython",
    "version": 3
   },
   "file_extension": ".py",
   "mimetype": "text/x-python",
   "name": "python",
   "nbconvert_exporter": "python",
   "pygments_lexer": "ipython3",
   "version": "3.9.13"
  },
  "orig_nbformat": 4,
  "vscode": {
   "interpreter": {
    "hash": "a665b5d41d17b532ea9890333293a1b812fa0b73c9c25c950b3cedf1bebd0438"
   }
  }
 },
 "nbformat": 4,
 "nbformat_minor": 2
}
