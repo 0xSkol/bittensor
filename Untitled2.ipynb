{
 "cells": [
  {
   "cell_type": "code",
   "execution_count": 47,
   "id": "a506434e-6d67-453a-8752-7a20845ac5e4",
   "metadata": {},
   "outputs": [],
   "source": [
    "import bittensor; import torch; import json"
   ]
  },
  {
   "cell_type": "code",
   "execution_count": null,
   "id": "3e04c998-4b2f-4a32-81d8-902b5fbde418",
   "metadata": {},
   "outputs": [],
   "source": [
    "sub = bittensor.subtensor( chain_endpoint = '127.0.0.1:9944')"
   ]
  },
  {
   "cell_type": "code",
   "execution_count": 53,
   "id": "bee3bf5f-e68e-4a59-9090-3cc2c7d12ebf",
   "metadata": {},
   "outputs": [],
   "source": [
    "neurons = sub.neurons()\n",
    "block = sub.get_current_block()\n"
   ]
  },
  {
   "cell_type": "code",
   "execution_count": 92,
   "id": "3c44a207-ac70-4dd3-87a5-a015389d3763",
   "metadata": {},
   "outputs": [
    {
     "data": {
      "text/plain": [
       "[<U32(value=0)>,\n",
       " <NeuronMetadataOf(value={'version': 120, 'ip': 3232235776, 'port': 9092, 'ip_type': 4, 'uid': 0, 'modality': 0, 'hotkey': '5EFtFyaCpMNroJUgPE9nkWFya9NQvQE2n9787Twxn8Y7JFfC', 'coldkey': '5He4UkxRvHMTVDzKiwxcTfjPPvQotLATzfV8y1AAKS2tw8MK', 'active': 1, 'last_update': 391, 'stake': 0, 'rank': 0, 'trust': 0, 'consensus': 0, 'incentive': 0, 'inflation': 0, 'dividends': 0, 'bonds': [], 'weights': [(0, 4294967295)]})>]"
      ]
     },
     "execution_count": 92,
     "metadata": {},
     "output_type": "execute_result"
    }
   ],
   "source": [
    "neurons.__dict__['records'][0]"
   ]
  },
  {
   "cell_type": "code",
   "execution_count": 72,
   "id": "f73df78f-3f09-4ebc-a085-d7d47b363cbe",
   "metadata": {},
   "outputs": [
    {
     "name": "stdout",
     "output_type": "stream",
     "text": [
      "tensor([0., 0., 0., 0., 0., 0., 0., 0., 0., 0., 0., 0., 0., 0., 0., 0., 0., 0.,\n",
      "        0., 0., 0., 0., 0., 0., 0., 0., 0., 0., 0., 0., 0., 0., 0., 0., 0., 0.,\n",
      "        0., 0., 0., 0., 0., 0., 0., 0., 0., 0., 0., 0., 0., 0., 0., 0., 0., 0.,\n",
      "        0., 0., 0., 0., 0., 0., 0., 0., 0., 0., 0., 0., 0., 0., 0., 0., 0., 0.,\n",
      "        0., 0., 0., 0., 0., 0., 0., 0., 0., 0., 0., 0., 0., 0., 0., 0., 0., 0.,\n",
      "        0., 0., 0., 0., 0., 0., 0., 0., 0., 0., 0., 0., 0., 0., 0., 0., 0., 0.,\n",
      "        0., 0., 0., 0., 0., 0., 0., 0., 0., 0., 0., 0., 0., 0., 0., 0., 0., 0.,\n",
      "        0., 0., 0., 0., 0., 0., 0., 0., 0., 0., 0., 0., 0., 0., 0., 0., 0., 0.,\n",
      "        0., 0., 0., 0., 0., 0., 0., 0., 0., 0., 0., 0., 0., 0., 0., 0., 0., 0.,\n",
      "        0., 0., 0., 0., 0., 0., 0., 0., 0., 0., 0., 0., 0., 0., 0., 0., 0., 0.,\n",
      "        0., 0., 0., 0., 0., 0., 0., 0., 0., 0., 0., 0., 0., 0., 0., 0., 0., 0.,\n",
      "        0., 0., 0., 0., 0., 0., 0., 0., 0., 0., 0., 0., 0., 0., 0., 0., 0., 0.,\n",
      "        0., 0., 0., 0., 0., 0., 0., 0., 0., 0., 0., 0., 0., 0., 0., 0., 0., 0.,\n",
      "        0., 0., 0., 1., 0., 0., 0., 0., 0., 0., 0., 0., 0., 0., 0., 0., 0., 0.,\n",
      "        0., 0., 0., 0., 0., 0., 0., 0., 0., 0., 0., 0., 0., 0., 0., 0., 0., 0.,\n",
      "        0., 0., 0., 0., 0., 0., 0., 0., 0., 0., 0., 0., 0., 0., 0., 0., 0., 0.,\n",
      "        0., 0., 0., 0., 0., 0., 0., 0., 0., 0., 0., 0., 0., 0., 0., 0., 0., 0.,\n",
      "        0., 0., 0., 0., 0., 0., 0., 0., 0., 0., 0., 0., 0., 0., 0., 0., 0., 0.,\n",
      "        0., 0., 0., 0., 0., 0., 0., 0., 0., 0., 0., 0., 0., 0., 0., 0., 0., 0.,\n",
      "        0., 0., 0., 0., 0., 0., 0., 0., 0., 0., 0., 0., 0., 0., 0., 0., 0., 0.,\n",
      "        0., 0., 0., 0., 0., 0., 0., 0., 0., 0., 0., 0., 0., 0., 0., 0., 0., 0.,\n",
      "        0., 0., 0., 0., 0., 0., 0., 0., 0., 0., 0., 0., 0., 0., 0., 0., 0., 0.,\n",
      "        0., 0., 0., 0.])\n"
     ]
    }
   ],
   "source": [
    "for n in neurons:\n",
    "    n = n[1].value\n",
    "    uids, weights = zip(*n['weights'])\n",
    "    vec = bittensor.utils.weight_utils.convert_weight_uids_and_vals_to_tensor( 400, uids, weights )\n",
    "print (vec)"
   ]
  },
  {
   "cell_type": "code",
   "execution_count": 96,
   "id": "381b3582-4466-4766-8baf-144ac735361c",
   "metadata": {},
   "outputs": [],
   "source": [
    "# Fill arrays.\n",
    "uids = []\n",
    "active = []\n",
    "stake = []\n",
    "ranks = []\n",
    "trust = []\n",
    "consensus = []\n",
    "incentive = []\n",
    "inflation = []\n",
    "dividends = []\n",
    "lastupdates = []\n",
    "endpoints = []\n",
    "weights = []\n",
    "bonds = []\n",
    "n_total = len(neurons.__dict__['records'])\n",
    "for n in neurons:\n",
    "    n = n[1].value\n",
    "    uids.append( n['uid'] )\n",
    "    active.append( n['active'] )\n",
    "    stake.append( n['stake'] / float(1000000000) )\n",
    "    ranks.append( n['rank'] / float(1000000000) )\n",
    "    trust.append( n['trust'] / float(1000000000) )\n",
    "    consensus.append( n['consensus'] / float(1000000000) )\n",
    "    incentive.append( n['incentive'] / float(1000000000) )\n",
    "    inflation.append( n['inflation'] / float(1000000000) )\n",
    "    dividends.append( n['dividends'] / float(1000000000) )\n",
    "    lastupdates.append( n['last_update'] / float(1000000000) )\n",
    "    endpoint =  bittensor.endpoint(\n",
    "        uid = int(n['uid']), \n",
    "        hotkey = str(n['hotkey']), \n",
    "        ip_type = int(n['ip_type']), \n",
    "        ip = bittensor.utils.networking.int_to_ip( int(n['ip_type']) ), \n",
    "        port = int(n['port']), \n",
    "        modality = int(n['modality']), \n",
    "        coldkey = str(n['coldkey']) \n",
    "    )\n",
    "    endpoints.append( endpoint.to_tensor().tolist())\n",
    "    if len(n['weights']) > 0:\n",
    "        n_uids, n_weights = zip(*n['weights'])\n",
    "        weights.append( bittensor.utils.weight_utils.convert_weight_uids_and_vals_to_tensor( n_total, n_uids, n_weights ).tolist() )\n",
    "    else:\n",
    "        weights.append( [0] * n_total )\n",
    "    if len(n['bonds']) > 0:\n",
    "        n_uids, n_bonds = zip(*n['bonds'])\n",
    "        bonds.append( bittensor.utils.weight_utils.convert_weight_uids_and_vals_to_tensor( n_total, n_uids, n_bonds ).tolist() )\n",
    "    else:\n",
    "        bonds.append( [0] * n_total )\n"
   ]
  },
  {
   "cell_type": "code",
   "execution_count": 97,
   "id": "65011552-e828-4c96-93a0-fca6e8a7ec11",
   "metadata": {},
   "outputs": [],
   "source": [
    "# Set tensors.\n",
    "tn = torch.tensor( n_total, dtype=torch.float32 )\n",
    "tblock = torch.tensor( block, dtype=torch.float32 )\n",
    "tuids = torch.tensor( uids, dtype=torch.float32 )\n",
    "tactive = torch.tensor( active, dtype=torch.float32 )\n",
    "tstake = torch.tensor( stake, dtype=torch.float32 )\n",
    "tranks = torch.tensor( ranks, dtype=torch.float32 )\n",
    "ttrust = torch.tensor( trust, dtype=torch.float32 )\n",
    "tconsensus = torch.tensor( consensus, dtype=torch.float32 )\n",
    "tincentive = torch.tensor( incentive, dtype=torch.float32 )\n",
    "tinflation = torch.tensor( inflation, dtype=torch.float32 )\n",
    "tdividends = torch.tensor( dividends, dtype=torch.float32 )\n",
    "tlastemit = torch.tensor( lastemit, dtype=torch.int64 )\n",
    "tbonds = torch.tensor( bonds, dtype=torch.int64 )\n",
    "tweights = torch.tensor( weights, dtype=torch.float32 )\n",
    "tendpoints = torch.tensor( endpoints, dtype=torch.int64 )"
   ]
  },
  {
   "cell_type": "code",
   "execution_count": 98,
   "id": "adcc962a-5aa6-486c-8e5d-17d994fce436",
   "metadata": {},
   "outputs": [
    {
     "data": {
      "text/plain": [
       "tensor([[123,  34, 117,  ...,  -1,  -1,  -1],\n",
       "        [123,  34, 117,  ...,  -1,  -1,  -1],\n",
       "        [123,  34, 117,  ...,  -1,  -1,  -1],\n",
       "        ...,\n",
       "        [123,  34, 117,  ...,  -1,  -1,  -1],\n",
       "        [123,  34, 117,  ...,  -1,  -1,  -1],\n",
       "        [123,  34, 117,  ...,  -1,  -1,  -1]])"
      ]
     },
     "execution_count": 98,
     "metadata": {},
     "output_type": "execute_result"
    }
   ],
   "source": [
    "tendpoints"
   ]
  },
  {
   "cell_type": "code",
   "execution_count": 99,
   "id": "e1c8c864-98f5-4bae-865d-326c54009dd1",
   "metadata": {},
   "outputs": [],
   "source": [
    "# Set params.\n",
    "pn = torch.nn.Parameter( tn, requires_grad=False )\n",
    "pblock = torch.nn.Parameter( tblock, requires_grad=False )\n",
    "puids = torch.nn.Parameter( tuids, requires_grad=False )\n",
    "pstake = torch.nn.Parameter( tstake, requires_grad=False )\n",
    "pranks = torch.nn.Parameter( tranks, requires_grad=False )\n",
    "ptrust = torch.nn.Parameter( ttrust, requires_grad=False )\n",
    "pconsensus = torch.nn.Parameter( tconsensus, requires_grad=False )\n",
    "pincentive = torch.nn.Parameter( tincentive, requires_grad=False )\n",
    "pinflation = torch.nn.Parameter( tinflation, requires_grad=False )\n",
    "pdividends = torch.nn.Parameter( tdividends, requires_grad=False )\n",
    "pactive = torch.nn.Parameter( tactive, requires_grad=False )\n",
    "plastemit = torch.nn.Parameter( tlastemit, requires_grad=False )\n",
    "pweights = torch.nn.Parameter( tweights, requires_grad=False )\n",
    "pendpoints = torch.nn.Parameter( tendpoints, requires_grad=False )"
   ]
  },
  {
   "cell_type": "code",
   "execution_count": 101,
   "id": "bd947c64-f198-44e7-908f-6418df8b55cb",
   "metadata": {},
   "outputs": [
    {
     "data": {
      "text/plain": [
       "Parameter containing:\n",
       "tensor([0., 0., 0., 0., 0., 0., 0., 0., 0., 0., 0., 0., 0., 0., 0., 0., 0., 0., 0., 0., 0., 0., 0., 0.,\n",
       "        0., 0., 0., 0., 0., 0., 0., 0., 0., 0., 0., 0., 0., 0., 0., 0., 0., 0., 0., 0., 0., 0., 0., 0.,\n",
       "        0., 0., 0., 0., 0., 0., 0., 0., 0., 0., 0., 0., 0., 0., 0., 0., 0., 0., 0., 0., 0., 0., 0., 0.,\n",
       "        0., 0., 0., 0., 0., 0., 0., 0., 0., 0., 0., 0., 0., 0., 0., 0., 0., 0., 0., 0., 0., 0., 0., 0.,\n",
       "        0., 0., 0., 0., 0., 0., 0., 0., 0., 0., 0., 0., 0., 0., 0., 0., 0., 0., 0., 0., 0., 0., 0., 0.,\n",
       "        0., 0., 0., 0., 0., 0., 0., 0., 0., 0., 0., 0., 0., 0., 0., 0., 0., 0., 0., 0., 0., 0., 0., 0.,\n",
       "        0., 0., 0., 0., 0., 0., 0., 0., 0., 0., 0., 0., 0., 0., 0., 0., 0., 0., 0., 0., 0., 0., 0., 0.,\n",
       "        0., 0., 0., 0., 0., 0., 0., 0., 0., 0., 0., 0., 0., 0., 0., 0., 0., 0., 0., 0., 0., 0., 0., 0.,\n",
       "        0., 0., 0., 0., 0., 0., 0., 0., 0., 0., 0., 0., 0., 0., 0., 0., 0., 0., 0., 0., 0., 0., 0., 0.,\n",
       "        0., 0., 0., 0., 0., 0., 0., 0., 0., 0., 0., 0., 0., 0., 0., 0., 0., 0., 0., 0., 0., 0.])"
      ]
     },
     "execution_count": 101,
     "metadata": {},
     "output_type": "execute_result"
    }
   ],
   "source": []
  },
  {
   "cell_type": "code",
   "execution_count": null,
   "id": "1a5cc592-1e94-4a0c-ac38-21495e0cbd15",
   "metadata": {},
   "outputs": [],
   "source": [
    "import time\n",
    "for j in range(10):\n",
    "    for i in range(10):\n",
    "        wallet = bittensor.wallet( path = '~/.test_bittensor/wallets', name = 'test_wallet_' + str(500*(j + 11) + i))\n",
    "        wallet.create_new_coldkey( use_password = False, overwrite = True)\n",
    "        wallet.create_new_hotkey( use_password = False, overwrite = True)\n",
    "        sub.subscribe( wallet = wallet, ip = '192.168.1.0', port = 9092, modality = 0, wait_for_finalization = False, wait_for_inclusion = False) \n",
    "        print ('Done', i)\n",
    "    time.sleep(10)\n"
   ]
  },
  {
   "cell_type": "code",
   "execution_count": null,
   "id": "1458f346-d090-42cc-8041-dceb57700a0b",
   "metadata": {},
   "outputs": [],
   "source": []
  }
 ],
 "metadata": {
  "kernelspec": {
   "display_name": "Python 3 (ipykernel)",
   "language": "python",
   "name": "python3"
  },
  "language_info": {
   "codemirror_mode": {
    "name": "ipython",
    "version": 3
   },
   "file_extension": ".py",
   "mimetype": "text/x-python",
   "name": "python",
   "nbconvert_exporter": "python",
   "pygments_lexer": "ipython3",
   "version": "3.8.11"
  }
 },
 "nbformat": 4,
 "nbformat_minor": 5
}
